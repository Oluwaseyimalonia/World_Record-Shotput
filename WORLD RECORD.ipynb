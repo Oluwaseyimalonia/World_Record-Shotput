{
 "cells": [
  {
   "cell_type": "markdown",
   "metadata": {},
   "source": [
    "## ANALYSIS OF WORLD RECORD SUMMER OLYMPICS GAME\n",
    "\n",
    "Every four years, track and field athletes take the world stage at the Summer Olympics.  Some of the most exciting events during each Olympics are those in which athletes push the limits of their sport, breaking their own personal best records, national records, or even world records.  We have compiled the world record times for track events like the 100m dash and record distances for field events like the shotput into a single dataset.  This dataset includes information on the person who broke the record, his/her nationality, where the record was broken, and the year it was broken.  Note that not all world records are broken during the Olympics, with many occurring in regional or national competitions.\n",
    "\n",
    "### Primary Research Question\n",
    "### 1. How has the men’s shotput world record changed over time?  What about the women’s world record?\n",
    "\n",
    "Breakdown Your Analysis\n",
    "\n",
    "Let's break this analysis into its required steps:\n",
    "\n",
    "1. Create a subset of the dataset that contains only the World Record cases for men’s shotput.\n",
    "2. Create a subset that contains only the World Record cases for women's shotput.\n",
    "3. Create a scatterplot of year and record shotput distance: one for men and one for women. \n",
    "4. Confirm from these plots that a linear model is appropriate.  \n",
    "5. Run a linear model for each event and then interpret the results.\n",
    "\n",
    "##### DESCRIPTION OF DATA\n",
    "Data from World Record standings.\n",
    "Description\n",
    "This data contains time, event, and information of World Record athletic events across several years.\n",
    "\n",
    "Usage\n",
    "WorldRecords\n",
    "Format\n",
    "This dataframce contains the following information:\n",
    "\n",
    "##### Event\n",
    "Name of event\n",
    "\n",
    "##### Type\n",
    "Is it a timed event or a distance event?\n",
    "\n",
    "##### Record\n",
    "Record time (in seconds) or distance (in meters)\n",
    "\n",
    "##### Athlete\n",
    "Name of the athlete\n",
    "\n",
    "Nationality\n",
    "Nationality of the athlete\n",
    "\n",
    "##### Location\n",
    "Location of the event\n",
    "\n",
    "##### Year\n",
    "Year record was broken"
   ]
  },
  {
   "cell_type": "markdown",
   "metadata": {},
   "source": [
    "#### IMPORTING THE LIBRARIES"
   ]
  },
  {
   "cell_type": "code",
   "execution_count": 1,
   "metadata": {},
   "outputs": [],
   "source": [
    "#Importing the Libraries \n",
    "import pandas as pd\n",
    "import numpy as np\n",
    "from numpy import percentile\n",
    "import matplotlib.pyplot as plt\n",
    "import seaborn as sn\n",
    "from scipy import stats\n",
    "%matplotlib inline"
   ]
  },
  {
   "cell_type": "markdown",
   "metadata": {},
   "source": [
    "#### IMPORTING THE DATA "
   ]
  },
  {
   "cell_type": "code",
   "execution_count": 2,
   "metadata": {},
   "outputs": [],
   "source": [
    "#Importing the dataset\n",
    "W_Record= pd.read_csv('C:\\\\Users\\\\ajibo\\\\Desktop\\\\SENSORS ACTIVITY\\\\WorldRecord.csv', encoding=\"unicode_escape\" )\n"
   ]
  },
  {
   "cell_type": "markdown",
   "metadata": {},
   "source": [
    "#### DATASET FOR  WORLD RECORD MEN'S SHOTPUT."
   ]
  },
  {
   "cell_type": "code",
   "execution_count": 3,
   "metadata": {},
   "outputs": [],
   "source": [
    "#Subset of the dataset(Men's shotput)\n",
    "MW_RECORD = W_Record[W_Record['Event']== 'Mens Shotput' ] "
   ]
  },
  {
   "cell_type": "code",
   "execution_count": 4,
   "metadata": {},
   "outputs": [
    {
     "data": {
      "text/html": [
       "<div>\n",
       "<style scoped>\n",
       "    .dataframe tbody tr th:only-of-type {\n",
       "        vertical-align: middle;\n",
       "    }\n",
       "\n",
       "    .dataframe tbody tr th {\n",
       "        vertical-align: top;\n",
       "    }\n",
       "\n",
       "    .dataframe thead th {\n",
       "        text-align: right;\n",
       "    }\n",
       "</style>\n",
       "<table border=\"1\" class=\"dataframe\">\n",
       "  <thead>\n",
       "    <tr style=\"text-align: right;\">\n",
       "      <th></th>\n",
       "      <th>Unnamed: 0</th>\n",
       "      <th>Event</th>\n",
       "      <th>Type</th>\n",
       "      <th>Record</th>\n",
       "      <th>Athlete</th>\n",
       "      <th>Nationality</th>\n",
       "      <th>Location</th>\n",
       "      <th>Year</th>\n",
       "    </tr>\n",
       "  </thead>\n",
       "  <tbody>\n",
       "    <tr>\n",
       "      <td>205</td>\n",
       "      <td>206</td>\n",
       "      <td>Mens Shotput</td>\n",
       "      <td>distance</td>\n",
       "      <td>17.68</td>\n",
       "      <td>Charlie Fonville</td>\n",
       "      <td>USA</td>\n",
       "      <td>Lawrence, U.S.</td>\n",
       "      <td>1948</td>\n",
       "    </tr>\n",
       "    <tr>\n",
       "      <td>206</td>\n",
       "      <td>207</td>\n",
       "      <td>Mens Shotput</td>\n",
       "      <td>distance</td>\n",
       "      <td>17.79</td>\n",
       "      <td>Jim Fuchs</td>\n",
       "      <td>USA</td>\n",
       "      <td>Oslo, Norway</td>\n",
       "      <td>1949</td>\n",
       "    </tr>\n",
       "    <tr>\n",
       "      <td>207</td>\n",
       "      <td>208</td>\n",
       "      <td>Mens Shotput</td>\n",
       "      <td>distance</td>\n",
       "      <td>17.82</td>\n",
       "      <td>Jim Fuchs</td>\n",
       "      <td>USA</td>\n",
       "      <td>Los Angeles, U.S.</td>\n",
       "      <td>1950</td>\n",
       "    </tr>\n",
       "    <tr>\n",
       "      <td>208</td>\n",
       "      <td>209</td>\n",
       "      <td>Mens Shotput</td>\n",
       "      <td>distance</td>\n",
       "      <td>17.90</td>\n",
       "      <td>Jim Fuchs</td>\n",
       "      <td>USA</td>\n",
       "      <td>Visby, Sweden</td>\n",
       "      <td>1950</td>\n",
       "    </tr>\n",
       "    <tr>\n",
       "      <td>209</td>\n",
       "      <td>210</td>\n",
       "      <td>Mens Shotput</td>\n",
       "      <td>distance</td>\n",
       "      <td>17.95</td>\n",
       "      <td>Jim Fuchs</td>\n",
       "      <td>USA</td>\n",
       "      <td>Eskilstuna, Sweden</td>\n",
       "      <td>1950</td>\n",
       "    </tr>\n",
       "    <tr>\n",
       "      <td>210</td>\n",
       "      <td>211</td>\n",
       "      <td>Mens Shotput</td>\n",
       "      <td>distance</td>\n",
       "      <td>18.00</td>\n",
       "      <td>Parry O'Brien</td>\n",
       "      <td>USA</td>\n",
       "      <td>Fresno, U.S.</td>\n",
       "      <td>1953</td>\n",
       "    </tr>\n",
       "    <tr>\n",
       "      <td>211</td>\n",
       "      <td>212</td>\n",
       "      <td>Mens Shotput</td>\n",
       "      <td>distance</td>\n",
       "      <td>18.04</td>\n",
       "      <td>Parry O'Brien</td>\n",
       "      <td>USA</td>\n",
       "      <td>Compton, U.S.</td>\n",
       "      <td>1953</td>\n",
       "    </tr>\n",
       "    <tr>\n",
       "      <td>212</td>\n",
       "      <td>213</td>\n",
       "      <td>Mens Shotput</td>\n",
       "      <td>distance</td>\n",
       "      <td>18.42</td>\n",
       "      <td>Parry O'Brien</td>\n",
       "      <td>USA</td>\n",
       "      <td>Los Angeles, U.S.</td>\n",
       "      <td>1954</td>\n",
       "    </tr>\n",
       "    <tr>\n",
       "      <td>213</td>\n",
       "      <td>214</td>\n",
       "      <td>Mens Shotput</td>\n",
       "      <td>distance</td>\n",
       "      <td>18.43</td>\n",
       "      <td>Parry O'Brien</td>\n",
       "      <td>USA</td>\n",
       "      <td>Los Angeles, U.S.</td>\n",
       "      <td>1954</td>\n",
       "    </tr>\n",
       "    <tr>\n",
       "      <td>214</td>\n",
       "      <td>215</td>\n",
       "      <td>Mens Shotput</td>\n",
       "      <td>distance</td>\n",
       "      <td>18.54</td>\n",
       "      <td>Parry O'Brien</td>\n",
       "      <td>USA</td>\n",
       "      <td>Los Angeles, U.S.</td>\n",
       "      <td>1954</td>\n",
       "    </tr>\n",
       "    <tr>\n",
       "      <td>215</td>\n",
       "      <td>216</td>\n",
       "      <td>Mens Shotput</td>\n",
       "      <td>distance</td>\n",
       "      <td>18.62</td>\n",
       "      <td>Parry O'Brien</td>\n",
       "      <td>USA</td>\n",
       "      <td>Salt Lake City, U.S.</td>\n",
       "      <td>1956</td>\n",
       "    </tr>\n",
       "    <tr>\n",
       "      <td>216</td>\n",
       "      <td>217</td>\n",
       "      <td>Mens Shotput</td>\n",
       "      <td>distance</td>\n",
       "      <td>18.69</td>\n",
       "      <td>Parry O'Brien</td>\n",
       "      <td>USA</td>\n",
       "      <td>Los Angeles, U.S.</td>\n",
       "      <td>1956</td>\n",
       "    </tr>\n",
       "    <tr>\n",
       "      <td>217</td>\n",
       "      <td>218</td>\n",
       "      <td>Mens Shotput</td>\n",
       "      <td>distance</td>\n",
       "      <td>19.06</td>\n",
       "      <td>Parry O'Brien</td>\n",
       "      <td>USA</td>\n",
       "      <td>Eugene, U.S.</td>\n",
       "      <td>1956</td>\n",
       "    </tr>\n",
       "    <tr>\n",
       "      <td>218</td>\n",
       "      <td>219</td>\n",
       "      <td>Mens Shotput</td>\n",
       "      <td>distance</td>\n",
       "      <td>19.25</td>\n",
       "      <td>Parry O'Brien</td>\n",
       "      <td>USA</td>\n",
       "      <td>Los Angeles, U.S.</td>\n",
       "      <td>1956</td>\n",
       "    </tr>\n",
       "    <tr>\n",
       "      <td>219</td>\n",
       "      <td>220</td>\n",
       "      <td>Mens Shotput</td>\n",
       "      <td>distance</td>\n",
       "      <td>19.25</td>\n",
       "      <td>Dallas Long</td>\n",
       "      <td>USA</td>\n",
       "      <td>Santa Barbara, U.S.</td>\n",
       "      <td>1959</td>\n",
       "    </tr>\n",
       "    <tr>\n",
       "      <td>220</td>\n",
       "      <td>221</td>\n",
       "      <td>Mens Shotput</td>\n",
       "      <td>distance</td>\n",
       "      <td>19.30</td>\n",
       "      <td>Parry O'Brien</td>\n",
       "      <td>USA</td>\n",
       "      <td>Albuquerque, U.S.</td>\n",
       "      <td>1959</td>\n",
       "    </tr>\n",
       "    <tr>\n",
       "      <td>221</td>\n",
       "      <td>222</td>\n",
       "      <td>Mens Shotput</td>\n",
       "      <td>distance</td>\n",
       "      <td>19.38</td>\n",
       "      <td>Dallas Long</td>\n",
       "      <td>USA</td>\n",
       "      <td>Los Angeles, U.S.</td>\n",
       "      <td>1960</td>\n",
       "    </tr>\n",
       "    <tr>\n",
       "      <td>222</td>\n",
       "      <td>223</td>\n",
       "      <td>Mens Shotput</td>\n",
       "      <td>distance</td>\n",
       "      <td>19.45</td>\n",
       "      <td>Bill Nieder</td>\n",
       "      <td>USA</td>\n",
       "      <td>Palo Alto, U.S.</td>\n",
       "      <td>1960</td>\n",
       "    </tr>\n",
       "    <tr>\n",
       "      <td>223</td>\n",
       "      <td>224</td>\n",
       "      <td>Mens Shotput</td>\n",
       "      <td>distance</td>\n",
       "      <td>19.67</td>\n",
       "      <td>Dallas Long</td>\n",
       "      <td>USA</td>\n",
       "      <td>Los Angeles, U.S.</td>\n",
       "      <td>1960</td>\n",
       "    </tr>\n",
       "    <tr>\n",
       "      <td>224</td>\n",
       "      <td>225</td>\n",
       "      <td>Mens Shotput</td>\n",
       "      <td>distance</td>\n",
       "      <td>19.99</td>\n",
       "      <td>Bill Nieder</td>\n",
       "      <td>USA</td>\n",
       "      <td>Austin, U.S.</td>\n",
       "      <td>1960</td>\n",
       "    </tr>\n",
       "    <tr>\n",
       "      <td>225</td>\n",
       "      <td>226</td>\n",
       "      <td>Mens Shotput</td>\n",
       "      <td>distance</td>\n",
       "      <td>20.06</td>\n",
       "      <td>Bill Nieder</td>\n",
       "      <td>USA</td>\n",
       "      <td>Walnut, U.S.</td>\n",
       "      <td>1960</td>\n",
       "    </tr>\n",
       "    <tr>\n",
       "      <td>226</td>\n",
       "      <td>227</td>\n",
       "      <td>Mens Shotput</td>\n",
       "      <td>distance</td>\n",
       "      <td>20.08</td>\n",
       "      <td>Dallas Long</td>\n",
       "      <td>USA</td>\n",
       "      <td>Los Angeles, U.S.</td>\n",
       "      <td>1962</td>\n",
       "    </tr>\n",
       "    <tr>\n",
       "      <td>227</td>\n",
       "      <td>228</td>\n",
       "      <td>Mens Shotput</td>\n",
       "      <td>distance</td>\n",
       "      <td>20.10</td>\n",
       "      <td>Dallas Long</td>\n",
       "      <td>USA</td>\n",
       "      <td>Los Angeles, U.S.</td>\n",
       "      <td>1964</td>\n",
       "    </tr>\n",
       "    <tr>\n",
       "      <td>228</td>\n",
       "      <td>229</td>\n",
       "      <td>Mens Shotput</td>\n",
       "      <td>distance</td>\n",
       "      <td>20.20</td>\n",
       "      <td>Dallas Long</td>\n",
       "      <td>USA</td>\n",
       "      <td>Los Angeles, U.S.</td>\n",
       "      <td>1964</td>\n",
       "    </tr>\n",
       "    <tr>\n",
       "      <td>229</td>\n",
       "      <td>230</td>\n",
       "      <td>Mens Shotput</td>\n",
       "      <td>distance</td>\n",
       "      <td>20.68</td>\n",
       "      <td>Dallas Long</td>\n",
       "      <td>USA</td>\n",
       "      <td>Los Angeles, U.S.</td>\n",
       "      <td>1964</td>\n",
       "    </tr>\n",
       "    <tr>\n",
       "      <td>230</td>\n",
       "      <td>231</td>\n",
       "      <td>Mens Shotput</td>\n",
       "      <td>distance</td>\n",
       "      <td>21.52</td>\n",
       "      <td>Randy Matson</td>\n",
       "      <td>USA</td>\n",
       "      <td>College Station, U.S.</td>\n",
       "      <td>1965</td>\n",
       "    </tr>\n",
       "    <tr>\n",
       "      <td>231</td>\n",
       "      <td>232</td>\n",
       "      <td>Mens Shotput</td>\n",
       "      <td>distance</td>\n",
       "      <td>21.78</td>\n",
       "      <td>Randy Matson</td>\n",
       "      <td>USA</td>\n",
       "      <td>College Station, U.S.</td>\n",
       "      <td>1967</td>\n",
       "    </tr>\n",
       "    <tr>\n",
       "      <td>232</td>\n",
       "      <td>233</td>\n",
       "      <td>Mens Shotput</td>\n",
       "      <td>distance</td>\n",
       "      <td>21.82</td>\n",
       "      <td>Al Feuerbach</td>\n",
       "      <td>USA</td>\n",
       "      <td>San Jose, U.S.</td>\n",
       "      <td>1973</td>\n",
       "    </tr>\n",
       "    <tr>\n",
       "      <td>233</td>\n",
       "      <td>234</td>\n",
       "      <td>Mens Shotput</td>\n",
       "      <td>distance</td>\n",
       "      <td>21.85</td>\n",
       "      <td>Terry Albritton</td>\n",
       "      <td>USA</td>\n",
       "      <td>Honolulu, Hawaii, U.S.</td>\n",
       "      <td>1976</td>\n",
       "    </tr>\n",
       "    <tr>\n",
       "      <td>234</td>\n",
       "      <td>235</td>\n",
       "      <td>Mens Shotput</td>\n",
       "      <td>distance</td>\n",
       "      <td>22.00</td>\n",
       "      <td>Aleksandr Baryshnikov</td>\n",
       "      <td>URS</td>\n",
       "      <td>Paris, France</td>\n",
       "      <td>1976</td>\n",
       "    </tr>\n",
       "    <tr>\n",
       "      <td>235</td>\n",
       "      <td>236</td>\n",
       "      <td>Mens Shotput</td>\n",
       "      <td>distance</td>\n",
       "      <td>22.15</td>\n",
       "      <td>Udo Beyer</td>\n",
       "      <td>GDR</td>\n",
       "      <td>Gothenburg, Sweden</td>\n",
       "      <td>1978</td>\n",
       "    </tr>\n",
       "    <tr>\n",
       "      <td>236</td>\n",
       "      <td>237</td>\n",
       "      <td>Mens Shotput</td>\n",
       "      <td>distance</td>\n",
       "      <td>22.22</td>\n",
       "      <td>Udo Beyer</td>\n",
       "      <td>GDR</td>\n",
       "      <td>Los Angeles, U.S.</td>\n",
       "      <td>1983</td>\n",
       "    </tr>\n",
       "    <tr>\n",
       "      <td>237</td>\n",
       "      <td>238</td>\n",
       "      <td>Mens Shotput</td>\n",
       "      <td>distance</td>\n",
       "      <td>22.62</td>\n",
       "      <td>Ulf Timmermann</td>\n",
       "      <td>GDR</td>\n",
       "      <td>Berlin, Germany</td>\n",
       "      <td>1985</td>\n",
       "    </tr>\n",
       "    <tr>\n",
       "      <td>238</td>\n",
       "      <td>239</td>\n",
       "      <td>Mens Shotput</td>\n",
       "      <td>distance</td>\n",
       "      <td>22.64</td>\n",
       "      <td>Udo Beyer</td>\n",
       "      <td>GDR</td>\n",
       "      <td>Berlin, Germany</td>\n",
       "      <td>1986</td>\n",
       "    </tr>\n",
       "    <tr>\n",
       "      <td>239</td>\n",
       "      <td>240</td>\n",
       "      <td>Mens Shotput</td>\n",
       "      <td>distance</td>\n",
       "      <td>22.72</td>\n",
       "      <td>Alessandro Andrei</td>\n",
       "      <td>ITA</td>\n",
       "      <td>Viareggio, Italy</td>\n",
       "      <td>1987</td>\n",
       "    </tr>\n",
       "    <tr>\n",
       "      <td>240</td>\n",
       "      <td>241</td>\n",
       "      <td>Mens Shotput</td>\n",
       "      <td>distance</td>\n",
       "      <td>22.84</td>\n",
       "      <td>Alessandro Andrei</td>\n",
       "      <td>ITA</td>\n",
       "      <td>Viareggio, Italy</td>\n",
       "      <td>1987</td>\n",
       "    </tr>\n",
       "    <tr>\n",
       "      <td>241</td>\n",
       "      <td>242</td>\n",
       "      <td>Mens Shotput</td>\n",
       "      <td>distance</td>\n",
       "      <td>22.91</td>\n",
       "      <td>Alessandro Andrei</td>\n",
       "      <td>ITA</td>\n",
       "      <td>Viareggio, Italy</td>\n",
       "      <td>1987</td>\n",
       "    </tr>\n",
       "    <tr>\n",
       "      <td>242</td>\n",
       "      <td>243</td>\n",
       "      <td>Mens Shotput</td>\n",
       "      <td>distance</td>\n",
       "      <td>23.06</td>\n",
       "      <td>Ulf Timmermann</td>\n",
       "      <td>GDR</td>\n",
       "      <td>Chania, Greece</td>\n",
       "      <td>1988</td>\n",
       "    </tr>\n",
       "    <tr>\n",
       "      <td>243</td>\n",
       "      <td>244</td>\n",
       "      <td>Mens Shotput</td>\n",
       "      <td>distance</td>\n",
       "      <td>23.12</td>\n",
       "      <td>Randy Barnes</td>\n",
       "      <td>USA</td>\n",
       "      <td>Los Angeles, U.S.</td>\n",
       "      <td>1990</td>\n",
       "    </tr>\n",
       "  </tbody>\n",
       "</table>\n",
       "</div>"
      ],
      "text/plain": [
       "     Unnamed: 0         Event      Type  Record                  Athlete  \\\n",
       "205         206  Mens Shotput  distance   17.68        Charlie Fonville    \n",
       "206         207  Mens Shotput  distance   17.79               Jim Fuchs    \n",
       "207         208  Mens Shotput  distance   17.82               Jim Fuchs    \n",
       "208         209  Mens Shotput  distance   17.90               Jim Fuchs    \n",
       "209         210  Mens Shotput  distance   17.95               Jim Fuchs    \n",
       "210         211  Mens Shotput  distance   18.00           Parry O'Brien    \n",
       "211         212  Mens Shotput  distance   18.04           Parry O'Brien    \n",
       "212         213  Mens Shotput  distance   18.42           Parry O'Brien    \n",
       "213         214  Mens Shotput  distance   18.43           Parry O'Brien    \n",
       "214         215  Mens Shotput  distance   18.54           Parry O'Brien    \n",
       "215         216  Mens Shotput  distance   18.62           Parry O'Brien    \n",
       "216         217  Mens Shotput  distance   18.69           Parry O'Brien    \n",
       "217         218  Mens Shotput  distance   19.06           Parry O'Brien    \n",
       "218         219  Mens Shotput  distance   19.25           Parry O'Brien    \n",
       "219         220  Mens Shotput  distance   19.25             Dallas Long    \n",
       "220         221  Mens Shotput  distance   19.30           Parry O'Brien    \n",
       "221         222  Mens Shotput  distance   19.38             Dallas Long    \n",
       "222         223  Mens Shotput  distance   19.45             Bill Nieder    \n",
       "223         224  Mens Shotput  distance   19.67             Dallas Long    \n",
       "224         225  Mens Shotput  distance   19.99             Bill Nieder    \n",
       "225         226  Mens Shotput  distance   20.06             Bill Nieder    \n",
       "226         227  Mens Shotput  distance   20.08             Dallas Long    \n",
       "227         228  Mens Shotput  distance   20.10             Dallas Long    \n",
       "228         229  Mens Shotput  distance   20.20             Dallas Long    \n",
       "229         230  Mens Shotput  distance   20.68             Dallas Long    \n",
       "230         231  Mens Shotput  distance   21.52            Randy Matson    \n",
       "231         232  Mens Shotput  distance   21.78            Randy Matson    \n",
       "232         233  Mens Shotput  distance   21.82            Al Feuerbach    \n",
       "233         234  Mens Shotput  distance   21.85         Terry Albritton    \n",
       "234         235  Mens Shotput  distance   22.00   Aleksandr Baryshnikov    \n",
       "235         236  Mens Shotput  distance   22.15               Udo Beyer    \n",
       "236         237  Mens Shotput  distance   22.22               Udo Beyer    \n",
       "237         238  Mens Shotput  distance   22.62          Ulf Timmermann    \n",
       "238         239  Mens Shotput  distance   22.64               Udo Beyer    \n",
       "239         240  Mens Shotput  distance   22.72       Alessandro Andrei    \n",
       "240         241  Mens Shotput  distance   22.84       Alessandro Andrei    \n",
       "241         242  Mens Shotput  distance   22.91       Alessandro Andrei    \n",
       "242         243  Mens Shotput  distance   23.06          Ulf Timmermann    \n",
       "243         244  Mens Shotput  distance   23.12            Randy Barnes    \n",
       "\n",
       "    Nationality                Location  Year  \n",
       "205         USA          Lawrence, U.S.  1948  \n",
       "206         USA            Oslo, Norway  1949  \n",
       "207         USA       Los Angeles, U.S.  1950  \n",
       "208         USA           Visby, Sweden  1950  \n",
       "209         USA      Eskilstuna, Sweden  1950  \n",
       "210         USA            Fresno, U.S.  1953  \n",
       "211         USA           Compton, U.S.  1953  \n",
       "212         USA       Los Angeles, U.S.  1954  \n",
       "213         USA       Los Angeles, U.S.  1954  \n",
       "214         USA       Los Angeles, U.S.  1954  \n",
       "215         USA    Salt Lake City, U.S.  1956  \n",
       "216         USA       Los Angeles, U.S.  1956  \n",
       "217         USA            Eugene, U.S.  1956  \n",
       "218         USA       Los Angeles, U.S.  1956  \n",
       "219         USA     Santa Barbara, U.S.  1959  \n",
       "220         USA       Albuquerque, U.S.  1959  \n",
       "221         USA       Los Angeles, U.S.  1960  \n",
       "222         USA         Palo Alto, U.S.  1960  \n",
       "223         USA       Los Angeles, U.S.  1960  \n",
       "224         USA            Austin, U.S.  1960  \n",
       "225         USA            Walnut, U.S.  1960  \n",
       "226         USA       Los Angeles, U.S.  1962  \n",
       "227         USA       Los Angeles, U.S.  1964  \n",
       "228         USA       Los Angeles, U.S.  1964  \n",
       "229         USA       Los Angeles, U.S.  1964  \n",
       "230         USA   College Station, U.S.  1965  \n",
       "231         USA   College Station, U.S.  1967  \n",
       "232         USA          San Jose, U.S.  1973  \n",
       "233         USA  Honolulu, Hawaii, U.S.  1976  \n",
       "234         URS           Paris, France  1976  \n",
       "235         GDR      Gothenburg, Sweden  1978  \n",
       "236         GDR       Los Angeles, U.S.  1983  \n",
       "237         GDR         Berlin, Germany  1985  \n",
       "238         GDR         Berlin, Germany  1986  \n",
       "239         ITA        Viareggio, Italy  1987  \n",
       "240         ITA        Viareggio, Italy  1987  \n",
       "241         ITA        Viareggio, Italy  1987  \n",
       "242         GDR          Chania, Greece  1988  \n",
       "243         USA       Los Angeles, U.S.  1990  "
      ]
     },
     "execution_count": 4,
     "metadata": {},
     "output_type": "execute_result"
    }
   ],
   "source": [
    "MW_RECORD #Men's shortput dataset"
   ]
  },
  {
   "cell_type": "code",
   "execution_count": 5,
   "metadata": {},
   "outputs": [
    {
     "data": {
      "text/plain": [
       "Unnamed: 0     39\n",
       "Event          39\n",
       "Type           39\n",
       "Record         39\n",
       "Athlete        39\n",
       "Nationality    39\n",
       "Location       39\n",
       "Year           39\n",
       "dtype: int64"
      ]
     },
     "execution_count": 5,
     "metadata": {},
     "output_type": "execute_result"
    }
   ],
   "source": [
    "#Lenght of mens shotput. There are 39 men who parcitipated in shotput game.\n",
    "MW_RECORD.count()"
   ]
  },
  {
   "cell_type": "markdown",
   "metadata": {},
   "source": [
    "#### DATASET FOR  WORLD RECORD WOMEN'S SHOTPUT."
   ]
  },
  {
   "cell_type": "code",
   "execution_count": 6,
   "metadata": {},
   "outputs": [],
   "source": [
    "#Subset of the dataset(Women's shotput)\n",
    "WW_RECORD = W_Record[W_Record['Event']== 'Womens Shotput' ] "
   ]
  },
  {
   "cell_type": "code",
   "execution_count": 7,
   "metadata": {},
   "outputs": [
    {
     "data": {
      "text/html": [
       "<div>\n",
       "<style scoped>\n",
       "    .dataframe tbody tr th:only-of-type {\n",
       "        vertical-align: middle;\n",
       "    }\n",
       "\n",
       "    .dataframe tbody tr th {\n",
       "        vertical-align: top;\n",
       "    }\n",
       "\n",
       "    .dataframe thead th {\n",
       "        text-align: right;\n",
       "    }\n",
       "</style>\n",
       "<table border=\"1\" class=\"dataframe\">\n",
       "  <thead>\n",
       "    <tr style=\"text-align: right;\">\n",
       "      <th></th>\n",
       "      <th>Unnamed: 0</th>\n",
       "      <th>Event</th>\n",
       "      <th>Type</th>\n",
       "      <th>Record</th>\n",
       "      <th>Athlete</th>\n",
       "      <th>Nationality</th>\n",
       "      <th>Location</th>\n",
       "      <th>Year</th>\n",
       "    </tr>\n",
       "  </thead>\n",
       "  <tbody>\n",
       "    <tr>\n",
       "      <td>244</td>\n",
       "      <td>245</td>\n",
       "      <td>Womens Shotput</td>\n",
       "      <td>distance</td>\n",
       "      <td>14.59</td>\n",
       "      <td>Tatyana Sevryukova</td>\n",
       "      <td>URS</td>\n",
       "      <td>Moscow, Soviet Union</td>\n",
       "      <td>1948</td>\n",
       "    </tr>\n",
       "    <tr>\n",
       "      <td>245</td>\n",
       "      <td>246</td>\n",
       "      <td>Womens Shotput</td>\n",
       "      <td>distance</td>\n",
       "      <td>14.86</td>\n",
       "      <td>Klavdia Tochonova</td>\n",
       "      <td>URS</td>\n",
       "      <td>Tbilisi, Soviet Union</td>\n",
       "      <td>1949</td>\n",
       "    </tr>\n",
       "    <tr>\n",
       "      <td>246</td>\n",
       "      <td>247</td>\n",
       "      <td>Womens Shotput</td>\n",
       "      <td>distance</td>\n",
       "      <td>15.02</td>\n",
       "      <td>Anna Andreeva</td>\n",
       "      <td>URS</td>\n",
       "      <td>Ploie?ti, Romania</td>\n",
       "      <td>1950</td>\n",
       "    </tr>\n",
       "    <tr>\n",
       "      <td>247</td>\n",
       "      <td>248</td>\n",
       "      <td>Womens Shotput</td>\n",
       "      <td>distance</td>\n",
       "      <td>15.28</td>\n",
       "      <td>Galina Zybina</td>\n",
       "      <td>URS</td>\n",
       "      <td>Helsinki, Finland</td>\n",
       "      <td>1952</td>\n",
       "    </tr>\n",
       "    <tr>\n",
       "      <td>248</td>\n",
       "      <td>249</td>\n",
       "      <td>Womens Shotput</td>\n",
       "      <td>distance</td>\n",
       "      <td>15.37</td>\n",
       "      <td>Galina Zybina</td>\n",
       "      <td>URS</td>\n",
       "      <td>Frunze, Soviet Union</td>\n",
       "      <td>1952</td>\n",
       "    </tr>\n",
       "    <tr>\n",
       "      <td>249</td>\n",
       "      <td>250</td>\n",
       "      <td>Womens Shotput</td>\n",
       "      <td>distance</td>\n",
       "      <td>15.42</td>\n",
       "      <td>Galina Zybina</td>\n",
       "      <td>URS</td>\n",
       "      <td>Frunze, Soviet Union</td>\n",
       "      <td>1952</td>\n",
       "    </tr>\n",
       "    <tr>\n",
       "      <td>250</td>\n",
       "      <td>251</td>\n",
       "      <td>Womens Shotput</td>\n",
       "      <td>distance</td>\n",
       "      <td>16.20</td>\n",
       "      <td>Galina Zybina</td>\n",
       "      <td>URS</td>\n",
       "      <td>Malmö, Sweden</td>\n",
       "      <td>1953</td>\n",
       "    </tr>\n",
       "    <tr>\n",
       "      <td>251</td>\n",
       "      <td>252</td>\n",
       "      <td>Womens Shotput</td>\n",
       "      <td>distance</td>\n",
       "      <td>16.28</td>\n",
       "      <td>Galina Zybina</td>\n",
       "      <td>URS</td>\n",
       "      <td>Kiev, Soviet Union</td>\n",
       "      <td>1954</td>\n",
       "    </tr>\n",
       "    <tr>\n",
       "      <td>252</td>\n",
       "      <td>253</td>\n",
       "      <td>Womens Shotput</td>\n",
       "      <td>distance</td>\n",
       "      <td>16.28</td>\n",
       "      <td>Galina Zybina</td>\n",
       "      <td>URS</td>\n",
       "      <td>Leningrad, Soviet Union</td>\n",
       "      <td>1955</td>\n",
       "    </tr>\n",
       "    <tr>\n",
       "      <td>253</td>\n",
       "      <td>254</td>\n",
       "      <td>Womens Shotput</td>\n",
       "      <td>distance</td>\n",
       "      <td>16.67</td>\n",
       "      <td>Galina Zybina</td>\n",
       "      <td>URS</td>\n",
       "      <td>Tbilisi, Soviet Union</td>\n",
       "      <td>1955</td>\n",
       "    </tr>\n",
       "    <tr>\n",
       "      <td>254</td>\n",
       "      <td>255</td>\n",
       "      <td>Womens Shotput</td>\n",
       "      <td>distance</td>\n",
       "      <td>16.76</td>\n",
       "      <td>Galina Zybina</td>\n",
       "      <td>URS</td>\n",
       "      <td>Tashkent, Soviet Union</td>\n",
       "      <td>1956</td>\n",
       "    </tr>\n",
       "    <tr>\n",
       "      <td>255</td>\n",
       "      <td>256</td>\n",
       "      <td>Womens Shotput</td>\n",
       "      <td>distance</td>\n",
       "      <td>17.25</td>\n",
       "      <td>Tamara Press</td>\n",
       "      <td>URS</td>\n",
       "      <td>Nalchik, Soviet Union</td>\n",
       "      <td>1959</td>\n",
       "    </tr>\n",
       "    <tr>\n",
       "      <td>256</td>\n",
       "      <td>257</td>\n",
       "      <td>Womens Shotput</td>\n",
       "      <td>distance</td>\n",
       "      <td>17.42</td>\n",
       "      <td>Tamara Press</td>\n",
       "      <td>URS</td>\n",
       "      <td>Moscow, Soviet Union</td>\n",
       "      <td>1960</td>\n",
       "    </tr>\n",
       "    <tr>\n",
       "      <td>257</td>\n",
       "      <td>258</td>\n",
       "      <td>Womens Shotput</td>\n",
       "      <td>distance</td>\n",
       "      <td>17.78</td>\n",
       "      <td>Tamara Press</td>\n",
       "      <td>URS</td>\n",
       "      <td>Moscow, Soviet Union</td>\n",
       "      <td>1960</td>\n",
       "    </tr>\n",
       "    <tr>\n",
       "      <td>258</td>\n",
       "      <td>259</td>\n",
       "      <td>Womens Shotput</td>\n",
       "      <td>distance</td>\n",
       "      <td>18.55</td>\n",
       "      <td>Tamara Press</td>\n",
       "      <td>URS</td>\n",
       "      <td>Leipzig, East Germany</td>\n",
       "      <td>1962</td>\n",
       "    </tr>\n",
       "    <tr>\n",
       "      <td>259</td>\n",
       "      <td>260</td>\n",
       "      <td>Womens Shotput</td>\n",
       "      <td>distance</td>\n",
       "      <td>18.55</td>\n",
       "      <td>Tamara Press</td>\n",
       "      <td>URS</td>\n",
       "      <td>Beograd, Yugoslavia</td>\n",
       "      <td>1962</td>\n",
       "    </tr>\n",
       "    <tr>\n",
       "      <td>260</td>\n",
       "      <td>261</td>\n",
       "      <td>Womens Shotput</td>\n",
       "      <td>distance</td>\n",
       "      <td>18.59</td>\n",
       "      <td>Tamara Press</td>\n",
       "      <td>URS</td>\n",
       "      <td>Kassel, West Germany</td>\n",
       "      <td>1965</td>\n",
       "    </tr>\n",
       "    <tr>\n",
       "      <td>261</td>\n",
       "      <td>262</td>\n",
       "      <td>Womens Shotput</td>\n",
       "      <td>distance</td>\n",
       "      <td>18.67</td>\n",
       "      <td>Nadezhda Chizhova</td>\n",
       "      <td>URS</td>\n",
       "      <td>Sochi, Soviet Union</td>\n",
       "      <td>1968</td>\n",
       "    </tr>\n",
       "    <tr>\n",
       "      <td>262</td>\n",
       "      <td>263</td>\n",
       "      <td>Womens Shotput</td>\n",
       "      <td>distance</td>\n",
       "      <td>18.87</td>\n",
       "      <td>Margitta Gummel</td>\n",
       "      <td>GDR</td>\n",
       "      <td>Frankfurt (Oder), East Germany</td>\n",
       "      <td>1968</td>\n",
       "    </tr>\n",
       "    <tr>\n",
       "      <td>263</td>\n",
       "      <td>264</td>\n",
       "      <td>Womens Shotput</td>\n",
       "      <td>distance</td>\n",
       "      <td>19.07</td>\n",
       "      <td>Margitta Gummel</td>\n",
       "      <td>GDR</td>\n",
       "      <td>Mexico City, Mexico</td>\n",
       "      <td>1968</td>\n",
       "    </tr>\n",
       "    <tr>\n",
       "      <td>264</td>\n",
       "      <td>265</td>\n",
       "      <td>Womens Shotput</td>\n",
       "      <td>distance</td>\n",
       "      <td>19.61</td>\n",
       "      <td>Margitta Gummel</td>\n",
       "      <td>GDR</td>\n",
       "      <td>Mexico City, Mexico</td>\n",
       "      <td>1968</td>\n",
       "    </tr>\n",
       "    <tr>\n",
       "      <td>265</td>\n",
       "      <td>266</td>\n",
       "      <td>Womens Shotput</td>\n",
       "      <td>distance</td>\n",
       "      <td>19.72</td>\n",
       "      <td>Nadezhda Chizhova</td>\n",
       "      <td>URS</td>\n",
       "      <td>Moscow, Soviet Union</td>\n",
       "      <td>1969</td>\n",
       "    </tr>\n",
       "    <tr>\n",
       "      <td>266</td>\n",
       "      <td>267</td>\n",
       "      <td>Womens Shotput</td>\n",
       "      <td>distance</td>\n",
       "      <td>20.09</td>\n",
       "      <td>Nadezhda Chizhova</td>\n",
       "      <td>URS</td>\n",
       "      <td>Chorzów, Poland</td>\n",
       "      <td>1969</td>\n",
       "    </tr>\n",
       "    <tr>\n",
       "      <td>267</td>\n",
       "      <td>268</td>\n",
       "      <td>Womens Shotput</td>\n",
       "      <td>distance</td>\n",
       "      <td>20.10</td>\n",
       "      <td>Margitta Gummel</td>\n",
       "      <td>GDR</td>\n",
       "      <td>East Berlin, East Germany</td>\n",
       "      <td>1969</td>\n",
       "    </tr>\n",
       "    <tr>\n",
       "      <td>268</td>\n",
       "      <td>269</td>\n",
       "      <td>Womens Shotput</td>\n",
       "      <td>distance</td>\n",
       "      <td>20.10</td>\n",
       "      <td>Nadezhda Chizhova</td>\n",
       "      <td>URS</td>\n",
       "      <td>Athens, Greece</td>\n",
       "      <td>1969</td>\n",
       "    </tr>\n",
       "    <tr>\n",
       "      <td>269</td>\n",
       "      <td>270</td>\n",
       "      <td>Womens Shotput</td>\n",
       "      <td>distance</td>\n",
       "      <td>20.43</td>\n",
       "      <td>Nadezhda Chizhova</td>\n",
       "      <td>URS</td>\n",
       "      <td>Athens, Greece</td>\n",
       "      <td>1969</td>\n",
       "    </tr>\n",
       "    <tr>\n",
       "      <td>270</td>\n",
       "      <td>271</td>\n",
       "      <td>Womens Shotput</td>\n",
       "      <td>distance</td>\n",
       "      <td>20.43</td>\n",
       "      <td>Nadezhda Chizhova</td>\n",
       "      <td>URS</td>\n",
       "      <td>Moscow, Soviet Union</td>\n",
       "      <td>1971</td>\n",
       "    </tr>\n",
       "    <tr>\n",
       "      <td>271</td>\n",
       "      <td>272</td>\n",
       "      <td>Womens Shotput</td>\n",
       "      <td>distance</td>\n",
       "      <td>20.63</td>\n",
       "      <td>Nadezhda Chizhova</td>\n",
       "      <td>URS</td>\n",
       "      <td>Sochi, Soviet Union</td>\n",
       "      <td>1972</td>\n",
       "    </tr>\n",
       "    <tr>\n",
       "      <td>272</td>\n",
       "      <td>273</td>\n",
       "      <td>Womens Shotput</td>\n",
       "      <td>distance</td>\n",
       "      <td>21.03</td>\n",
       "      <td>Nadezhda Chizhova</td>\n",
       "      <td>URS</td>\n",
       "      <td>Munich, West Germany</td>\n",
       "      <td>1972</td>\n",
       "    </tr>\n",
       "    <tr>\n",
       "      <td>273</td>\n",
       "      <td>274</td>\n",
       "      <td>Womens Shotput</td>\n",
       "      <td>distance</td>\n",
       "      <td>21.20</td>\n",
       "      <td>Nadezhda Chizhova</td>\n",
       "      <td>URS</td>\n",
       "      <td>Lvov, Soviet Union</td>\n",
       "      <td>1973</td>\n",
       "    </tr>\n",
       "    <tr>\n",
       "      <td>274</td>\n",
       "      <td>275</td>\n",
       "      <td>Womens Shotput</td>\n",
       "      <td>distance</td>\n",
       "      <td>21.60</td>\n",
       "      <td>Marianne Adam</td>\n",
       "      <td>GDR</td>\n",
       "      <td>East Berlin, East Germany</td>\n",
       "      <td>1975</td>\n",
       "    </tr>\n",
       "    <tr>\n",
       "      <td>275</td>\n",
       "      <td>276</td>\n",
       "      <td>Womens Shotput</td>\n",
       "      <td>distance</td>\n",
       "      <td>21.67</td>\n",
       "      <td>Marianne Adam</td>\n",
       "      <td>GDR</td>\n",
       "      <td>Karl-Marx-Stadt, East Germany</td>\n",
       "      <td>1976</td>\n",
       "    </tr>\n",
       "    <tr>\n",
       "      <td>276</td>\n",
       "      <td>277</td>\n",
       "      <td>Womens Shotput</td>\n",
       "      <td>distance</td>\n",
       "      <td>21.87</td>\n",
       "      <td>Ivanka Khristova</td>\n",
       "      <td>BUL</td>\n",
       "      <td>Belmeken, Bulgaria</td>\n",
       "      <td>1976</td>\n",
       "    </tr>\n",
       "    <tr>\n",
       "      <td>277</td>\n",
       "      <td>278</td>\n",
       "      <td>Womens Shotput</td>\n",
       "      <td>distance</td>\n",
       "      <td>21.89</td>\n",
       "      <td>Ivanka Khristova</td>\n",
       "      <td>BUL</td>\n",
       "      <td>Belmeken, Bulgaria</td>\n",
       "      <td>1976</td>\n",
       "    </tr>\n",
       "    <tr>\n",
       "      <td>278</td>\n",
       "      <td>279</td>\n",
       "      <td>Womens Shotput</td>\n",
       "      <td>distance</td>\n",
       "      <td>21.99</td>\n",
       "      <td>Helena Fibingerová</td>\n",
       "      <td>TCH</td>\n",
       "      <td>Opava, Czechoslovakia</td>\n",
       "      <td>1976</td>\n",
       "    </tr>\n",
       "    <tr>\n",
       "      <td>279</td>\n",
       "      <td>280</td>\n",
       "      <td>Womens Shotput</td>\n",
       "      <td>distance</td>\n",
       "      <td>22.32</td>\n",
       "      <td>Helena Fibingerová</td>\n",
       "      <td>TCH</td>\n",
       "      <td>Nitra, Czechoslovakia</td>\n",
       "      <td>1977</td>\n",
       "    </tr>\n",
       "    <tr>\n",
       "      <td>280</td>\n",
       "      <td>281</td>\n",
       "      <td>Womens Shotput</td>\n",
       "      <td>distance</td>\n",
       "      <td>22.36</td>\n",
       "      <td>Ilona Slupianek</td>\n",
       "      <td>GDR</td>\n",
       "      <td>Celje, Yugoslavia</td>\n",
       "      <td>1980</td>\n",
       "    </tr>\n",
       "    <tr>\n",
       "      <td>281</td>\n",
       "      <td>282</td>\n",
       "      <td>Womens Shotput</td>\n",
       "      <td>distance</td>\n",
       "      <td>22.45</td>\n",
       "      <td>Ilona Slupianek</td>\n",
       "      <td>GDR</td>\n",
       "      <td>Potsdam, East Germany</td>\n",
       "      <td>1980</td>\n",
       "    </tr>\n",
       "    <tr>\n",
       "      <td>282</td>\n",
       "      <td>283</td>\n",
       "      <td>Womens Shotput</td>\n",
       "      <td>distance</td>\n",
       "      <td>22.53</td>\n",
       "      <td>Natalya Lisovskaya</td>\n",
       "      <td>URS</td>\n",
       "      <td>Sochi, Soviet Union</td>\n",
       "      <td>1984</td>\n",
       "    </tr>\n",
       "    <tr>\n",
       "      <td>283</td>\n",
       "      <td>284</td>\n",
       "      <td>Womens Shotput</td>\n",
       "      <td>distance</td>\n",
       "      <td>22.60</td>\n",
       "      <td>Natalya Lisovskaya</td>\n",
       "      <td>URS</td>\n",
       "      <td>Moscow, Soviet Union</td>\n",
       "      <td>1987</td>\n",
       "    </tr>\n",
       "    <tr>\n",
       "      <td>284</td>\n",
       "      <td>285</td>\n",
       "      <td>Womens Shotput</td>\n",
       "      <td>distance</td>\n",
       "      <td>22.63</td>\n",
       "      <td>Natalya Lisovskaya</td>\n",
       "      <td>URS</td>\n",
       "      <td>Moscow, Soviet Union</td>\n",
       "      <td>1987</td>\n",
       "    </tr>\n",
       "  </tbody>\n",
       "</table>\n",
       "</div>"
      ],
      "text/plain": [
       "     Unnamed: 0           Event      Type  Record               Athlete  \\\n",
       "244         245  Womens Shotput  distance   14.59   Tatyana Sevryukova    \n",
       "245         246  Womens Shotput  distance   14.86    Klavdia Tochonova    \n",
       "246         247  Womens Shotput  distance   15.02        Anna Andreeva    \n",
       "247         248  Womens Shotput  distance   15.28        Galina Zybina    \n",
       "248         249  Womens Shotput  distance   15.37        Galina Zybina    \n",
       "249         250  Womens Shotput  distance   15.42        Galina Zybina    \n",
       "250         251  Womens Shotput  distance   16.20        Galina Zybina    \n",
       "251         252  Womens Shotput  distance   16.28        Galina Zybina    \n",
       "252         253  Womens Shotput  distance   16.28        Galina Zybina    \n",
       "253         254  Womens Shotput  distance   16.67        Galina Zybina    \n",
       "254         255  Womens Shotput  distance   16.76        Galina Zybina    \n",
       "255         256  Womens Shotput  distance   17.25         Tamara Press    \n",
       "256         257  Womens Shotput  distance   17.42         Tamara Press    \n",
       "257         258  Womens Shotput  distance   17.78         Tamara Press    \n",
       "258         259  Womens Shotput  distance   18.55         Tamara Press    \n",
       "259         260  Womens Shotput  distance   18.55         Tamara Press    \n",
       "260         261  Womens Shotput  distance   18.59         Tamara Press    \n",
       "261         262  Womens Shotput  distance   18.67    Nadezhda Chizhova    \n",
       "262         263  Womens Shotput  distance   18.87      Margitta Gummel    \n",
       "263         264  Womens Shotput  distance   19.07      Margitta Gummel    \n",
       "264         265  Womens Shotput  distance   19.61      Margitta Gummel    \n",
       "265         266  Womens Shotput  distance   19.72    Nadezhda Chizhova    \n",
       "266         267  Womens Shotput  distance   20.09    Nadezhda Chizhova    \n",
       "267         268  Womens Shotput  distance   20.10      Margitta Gummel    \n",
       "268         269  Womens Shotput  distance   20.10    Nadezhda Chizhova    \n",
       "269         270  Womens Shotput  distance   20.43    Nadezhda Chizhova    \n",
       "270         271  Womens Shotput  distance   20.43    Nadezhda Chizhova    \n",
       "271         272  Womens Shotput  distance   20.63    Nadezhda Chizhova    \n",
       "272         273  Womens Shotput  distance   21.03    Nadezhda Chizhova    \n",
       "273         274  Womens Shotput  distance   21.20    Nadezhda Chizhova    \n",
       "274         275  Womens Shotput  distance   21.60        Marianne Adam    \n",
       "275         276  Womens Shotput  distance   21.67        Marianne Adam    \n",
       "276         277  Womens Shotput  distance   21.87     Ivanka Khristova    \n",
       "277         278  Womens Shotput  distance   21.89     Ivanka Khristova    \n",
       "278         279  Womens Shotput  distance   21.99   Helena Fibingerová    \n",
       "279         280  Womens Shotput  distance   22.32   Helena Fibingerová    \n",
       "280         281  Womens Shotput  distance   22.36      Ilona Slupianek    \n",
       "281         282  Womens Shotput  distance   22.45      Ilona Slupianek    \n",
       "282         283  Womens Shotput  distance   22.53   Natalya Lisovskaya    \n",
       "283         284  Womens Shotput  distance   22.60   Natalya Lisovskaya    \n",
       "284         285  Womens Shotput  distance   22.63   Natalya Lisovskaya    \n",
       "\n",
       "    Nationality                        Location  Year  \n",
       "244         URS            Moscow, Soviet Union  1948  \n",
       "245         URS           Tbilisi, Soviet Union  1949  \n",
       "246         URS               Ploie?ti, Romania  1950  \n",
       "247         URS               Helsinki, Finland  1952  \n",
       "248         URS            Frunze, Soviet Union  1952  \n",
       "249         URS            Frunze, Soviet Union  1952  \n",
       "250         URS                   Malmö, Sweden  1953  \n",
       "251         URS              Kiev, Soviet Union  1954  \n",
       "252         URS         Leningrad, Soviet Union  1955  \n",
       "253         URS           Tbilisi, Soviet Union  1955  \n",
       "254         URS          Tashkent, Soviet Union  1956  \n",
       "255         URS           Nalchik, Soviet Union  1959  \n",
       "256         URS            Moscow, Soviet Union  1960  \n",
       "257         URS            Moscow, Soviet Union  1960  \n",
       "258         URS           Leipzig, East Germany  1962  \n",
       "259         URS             Beograd, Yugoslavia  1962  \n",
       "260         URS            Kassel, West Germany  1965  \n",
       "261         URS             Sochi, Soviet Union  1968  \n",
       "262         GDR  Frankfurt (Oder), East Germany  1968  \n",
       "263         GDR             Mexico City, Mexico  1968  \n",
       "264         GDR             Mexico City, Mexico  1968  \n",
       "265         URS            Moscow, Soviet Union  1969  \n",
       "266         URS                 Chorzów, Poland  1969  \n",
       "267         GDR       East Berlin, East Germany  1969  \n",
       "268         URS                  Athens, Greece  1969  \n",
       "269         URS                  Athens, Greece  1969  \n",
       "270         URS            Moscow, Soviet Union  1971  \n",
       "271         URS             Sochi, Soviet Union  1972  \n",
       "272         URS            Munich, West Germany  1972  \n",
       "273         URS              Lvov, Soviet Union  1973  \n",
       "274         GDR       East Berlin, East Germany  1975  \n",
       "275         GDR   Karl-Marx-Stadt, East Germany  1976  \n",
       "276         BUL              Belmeken, Bulgaria  1976  \n",
       "277         BUL              Belmeken, Bulgaria  1976  \n",
       "278         TCH           Opava, Czechoslovakia  1976  \n",
       "279         TCH           Nitra, Czechoslovakia  1977  \n",
       "280         GDR               Celje, Yugoslavia  1980  \n",
       "281         GDR           Potsdam, East Germany  1980  \n",
       "282         URS             Sochi, Soviet Union  1984  \n",
       "283         URS            Moscow, Soviet Union  1987  \n",
       "284         URS            Moscow, Soviet Union  1987  "
      ]
     },
     "execution_count": 7,
     "metadata": {},
     "output_type": "execute_result"
    }
   ],
   "source": [
    "WW_RECORD #Women shotput dataset"
   ]
  },
  {
   "cell_type": "code",
   "execution_count": 8,
   "metadata": {},
   "outputs": [
    {
     "data": {
      "text/plain": [
       "Unnamed: 0     41\n",
       "Event          41\n",
       "Type           41\n",
       "Record         41\n",
       "Athlete        41\n",
       "Nationality    41\n",
       "Location       41\n",
       "Year           41\n",
       "dtype: int64"
      ]
     },
     "execution_count": 8,
     "metadata": {},
     "output_type": "execute_result"
    }
   ],
   "source": [
    "#Lenght of mens shotput. There are 41 women who parcitipated in shotput game.\n",
    "WW_RECORD.count()"
   ]
  },
  {
   "cell_type": "markdown",
   "metadata": {},
   "source": [
    "#### EXTRACTING DISTANCE AND YEAR COULUMNS FROM MW_RECORD DATASET"
   ]
  },
  {
   "cell_type": "code",
   "execution_count": 9,
   "metadata": {},
   "outputs": [],
   "source": [
    "M_DIS_YEAR =MW_RECORD[['Record', 'Year']] "
   ]
  },
  {
   "cell_type": "code",
   "execution_count": 10,
   "metadata": {},
   "outputs": [
    {
     "data": {
      "text/html": [
       "<div>\n",
       "<style scoped>\n",
       "    .dataframe tbody tr th:only-of-type {\n",
       "        vertical-align: middle;\n",
       "    }\n",
       "\n",
       "    .dataframe tbody tr th {\n",
       "        vertical-align: top;\n",
       "    }\n",
       "\n",
       "    .dataframe thead th {\n",
       "        text-align: right;\n",
       "    }\n",
       "</style>\n",
       "<table border=\"1\" class=\"dataframe\">\n",
       "  <thead>\n",
       "    <tr style=\"text-align: right;\">\n",
       "      <th></th>\n",
       "      <th>Record</th>\n",
       "      <th>Year</th>\n",
       "    </tr>\n",
       "  </thead>\n",
       "  <tbody>\n",
       "    <tr>\n",
       "      <td>205</td>\n",
       "      <td>17.68</td>\n",
       "      <td>1948</td>\n",
       "    </tr>\n",
       "    <tr>\n",
       "      <td>206</td>\n",
       "      <td>17.79</td>\n",
       "      <td>1949</td>\n",
       "    </tr>\n",
       "    <tr>\n",
       "      <td>207</td>\n",
       "      <td>17.82</td>\n",
       "      <td>1950</td>\n",
       "    </tr>\n",
       "    <tr>\n",
       "      <td>208</td>\n",
       "      <td>17.90</td>\n",
       "      <td>1950</td>\n",
       "    </tr>\n",
       "    <tr>\n",
       "      <td>209</td>\n",
       "      <td>17.95</td>\n",
       "      <td>1950</td>\n",
       "    </tr>\n",
       "  </tbody>\n",
       "</table>\n",
       "</div>"
      ],
      "text/plain": [
       "     Record  Year\n",
       "205   17.68  1948\n",
       "206   17.79  1949\n",
       "207   17.82  1950\n",
       "208   17.90  1950\n",
       "209   17.95  1950"
      ]
     },
     "execution_count": 10,
     "metadata": {},
     "output_type": "execute_result"
    }
   ],
   "source": [
    "M_DIS_YEAR.head()"
   ]
  },
  {
   "cell_type": "markdown",
   "metadata": {},
   "source": [
    "#### VISUALIZATION OF YEAR AND RECORD SHOTPUT FOR MEN WITH SCATTER PLOT"
   ]
  },
  {
   "cell_type": "code",
   "execution_count": 11,
   "metadata": {},
   "outputs": [
    {
     "data": {
      "text/html": [
       "<div>\n",
       "<style scoped>\n",
       "    .dataframe tbody tr th:only-of-type {\n",
       "        vertical-align: middle;\n",
       "    }\n",
       "\n",
       "    .dataframe tbody tr th {\n",
       "        vertical-align: top;\n",
       "    }\n",
       "\n",
       "    .dataframe thead th {\n",
       "        text-align: right;\n",
       "    }\n",
       "</style>\n",
       "<table border=\"1\" class=\"dataframe\">\n",
       "  <thead>\n",
       "    <tr style=\"text-align: right;\">\n",
       "      <th></th>\n",
       "      <th>Record</th>\n",
       "      <th>Year</th>\n",
       "    </tr>\n",
       "  </thead>\n",
       "  <tbody>\n",
       "    <tr>\n",
       "      <td>count</td>\n",
       "      <td>39.000000</td>\n",
       "      <td>39.000000</td>\n",
       "    </tr>\n",
       "    <tr>\n",
       "      <td>mean</td>\n",
       "      <td>20.194872</td>\n",
       "      <td>1965.102564</td>\n",
       "    </tr>\n",
       "    <tr>\n",
       "      <td>std</td>\n",
       "      <td>1.829229</td>\n",
       "      <td>13.232327</td>\n",
       "    </tr>\n",
       "    <tr>\n",
       "      <td>min</td>\n",
       "      <td>17.680000</td>\n",
       "      <td>1948.000000</td>\n",
       "    </tr>\n",
       "    <tr>\n",
       "      <td>25%</td>\n",
       "      <td>18.580000</td>\n",
       "      <td>1955.000000</td>\n",
       "    </tr>\n",
       "    <tr>\n",
       "      <td>50%</td>\n",
       "      <td>19.990000</td>\n",
       "      <td>1960.000000</td>\n",
       "    </tr>\n",
       "    <tr>\n",
       "      <td>75%</td>\n",
       "      <td>21.925000</td>\n",
       "      <td>1976.000000</td>\n",
       "    </tr>\n",
       "    <tr>\n",
       "      <td>max</td>\n",
       "      <td>23.120000</td>\n",
       "      <td>1990.000000</td>\n",
       "    </tr>\n",
       "  </tbody>\n",
       "</table>\n",
       "</div>"
      ],
      "text/plain": [
       "          Record         Year\n",
       "count  39.000000    39.000000\n",
       "mean   20.194872  1965.102564\n",
       "std     1.829229    13.232327\n",
       "min    17.680000  1948.000000\n",
       "25%    18.580000  1955.000000\n",
       "50%    19.990000  1960.000000\n",
       "75%    21.925000  1976.000000\n",
       "max    23.120000  1990.000000"
      ]
     },
     "execution_count": 11,
     "metadata": {},
     "output_type": "execute_result"
    }
   ],
   "source": [
    "# Statistics description of Record and year columns.\n",
    "M_DIS_YEAR.describe()"
   ]
  },
  {
   "cell_type": "code",
   "execution_count": 12,
   "metadata": {},
   "outputs": [
    {
     "name": "stdout",
     "output_type": "stream",
     "text": [
      "<class 'pandas.core.frame.DataFrame'>\n",
      "Int64Index: 39 entries, 205 to 243\n",
      "Data columns (total 2 columns):\n",
      "Record    39 non-null float64\n",
      "Year      39 non-null int64\n",
      "dtypes: float64(1), int64(1)\n",
      "memory usage: 936.0 bytes\n"
     ]
    }
   ],
   "source": [
    "#\n",
    "M_DIS_YEAR.info()"
   ]
  },
  {
   "cell_type": "code",
   "execution_count": 13,
   "metadata": {},
   "outputs": [
    {
     "data": {
      "image/png": "[encoded data removed]",
      "text/plain": [
       "<Figure size 432x288 with 1 Axes>"
      ]
     },
     "metadata": {
      "needs_background": "light"
     },
     "output_type": "display_data"
    }
   ],
   "source": [
    "#Plotting the scatter plot\n",
    "x = M_DIS_YEAR['Year']\n",
    "y= M_DIS_YEAR['Record']\n",
    "plt.scatter(x, y, color= 'blue') \n",
    "plt.title(\"Distance vs Year \") # stating the title of the graph\n",
    "  \n",
    "plt.xlabel(\"Year\") # adding the name of x-axis\n",
    "plt.ylabel(\"Distance\") # adding the name of y-axis\n",
    "plt.show() #  show the graph\n"
   ]
  },
  {
   "cell_type": "code",
   "execution_count": 14,
   "metadata": {},
   "outputs": [
    {
     "data": {
      "image/png": "[encoded data removed]",
      "text/plain": [
       "<Figure size 432x288 with 1 Axes>"
      ]
     },
     "metadata": {
      "needs_background": "light"
     },
     "output_type": "display_data"
    }
   ],
   "source": [
    "#Plotting the distribution of the data.\n",
    "M_Histo= M_DIS_YEAR['Record'].hist()"
   ]
  },
  {
   "cell_type": "markdown",
   "metadata": {},
   "source": [
    "#### EXTRACTING DISTANCE AND YEAR COULUMNS FROM WW_RECORD DATASET"
   ]
  },
  {
   "cell_type": "code",
   "execution_count": 15,
   "metadata": {},
   "outputs": [],
   "source": [
    "W_DIS_YEAR =WW_RECORD[['Record', 'Year']] "
   ]
  },
  {
   "cell_type": "code",
   "execution_count": 16,
   "metadata": {},
   "outputs": [
    {
     "data": {
      "text/html": [
       "<div>\n",
       "<style scoped>\n",
       "    .dataframe tbody tr th:only-of-type {\n",
       "        vertical-align: middle;\n",
       "    }\n",
       "\n",
       "    .dataframe tbody tr th {\n",
       "        vertical-align: top;\n",
       "    }\n",
       "\n",
       "    .dataframe thead th {\n",
       "        text-align: right;\n",
       "    }\n",
       "</style>\n",
       "<table border=\"1\" class=\"dataframe\">\n",
       "  <thead>\n",
       "    <tr style=\"text-align: right;\">\n",
       "      <th></th>\n",
       "      <th>Record</th>\n",
       "      <th>Year</th>\n",
       "    </tr>\n",
       "  </thead>\n",
       "  <tbody>\n",
       "    <tr>\n",
       "      <td>244</td>\n",
       "      <td>14.59</td>\n",
       "      <td>1948</td>\n",
       "    </tr>\n",
       "    <tr>\n",
       "      <td>245</td>\n",
       "      <td>14.86</td>\n",
       "      <td>1949</td>\n",
       "    </tr>\n",
       "    <tr>\n",
       "      <td>246</td>\n",
       "      <td>15.02</td>\n",
       "      <td>1950</td>\n",
       "    </tr>\n",
       "    <tr>\n",
       "      <td>247</td>\n",
       "      <td>15.28</td>\n",
       "      <td>1952</td>\n",
       "    </tr>\n",
       "    <tr>\n",
       "      <td>248</td>\n",
       "      <td>15.37</td>\n",
       "      <td>1952</td>\n",
       "    </tr>\n",
       "  </tbody>\n",
       "</table>\n",
       "</div>"
      ],
      "text/plain": [
       "     Record  Year\n",
       "244   14.59  1948\n",
       "245   14.86  1949\n",
       "246   15.02  1950\n",
       "247   15.28  1952\n",
       "248   15.37  1952"
      ]
     },
     "execution_count": 16,
     "metadata": {},
     "output_type": "execute_result"
    }
   ],
   "source": [
    "W_DIS_YEAR.head() "
   ]
  },
  {
   "cell_type": "code",
   "execution_count": 17,
   "metadata": {},
   "outputs": [
    {
     "data": {
      "text/html": [
       "<div>\n",
       "<style scoped>\n",
       "    .dataframe tbody tr th:only-of-type {\n",
       "        vertical-align: middle;\n",
       "    }\n",
       "\n",
       "    .dataframe tbody tr th {\n",
       "        vertical-align: top;\n",
       "    }\n",
       "\n",
       "    .dataframe thead th {\n",
       "        text-align: right;\n",
       "    }\n",
       "</style>\n",
       "<table border=\"1\" class=\"dataframe\">\n",
       "  <thead>\n",
       "    <tr style=\"text-align: right;\">\n",
       "      <th></th>\n",
       "      <th>Record</th>\n",
       "      <th>Year</th>\n",
       "    </tr>\n",
       "  </thead>\n",
       "  <tbody>\n",
       "    <tr>\n",
       "      <td>count</td>\n",
       "      <td>41.000000</td>\n",
       "      <td>41.000000</td>\n",
       "    </tr>\n",
       "    <tr>\n",
       "      <td>mean</td>\n",
       "      <td>19.139756</td>\n",
       "      <td>1966.414634</td>\n",
       "    </tr>\n",
       "    <tr>\n",
       "      <td>std</td>\n",
       "      <td>2.572595</td>\n",
       "      <td>10.800406</td>\n",
       "    </tr>\n",
       "    <tr>\n",
       "      <td>min</td>\n",
       "      <td>14.590000</td>\n",
       "      <td>1948.000000</td>\n",
       "    </tr>\n",
       "    <tr>\n",
       "      <td>25%</td>\n",
       "      <td>16.760000</td>\n",
       "      <td>1956.000000</td>\n",
       "    </tr>\n",
       "    <tr>\n",
       "      <td>50%</td>\n",
       "      <td>19.610000</td>\n",
       "      <td>1968.000000</td>\n",
       "    </tr>\n",
       "    <tr>\n",
       "      <td>75%</td>\n",
       "      <td>21.600000</td>\n",
       "      <td>1975.000000</td>\n",
       "    </tr>\n",
       "    <tr>\n",
       "      <td>max</td>\n",
       "      <td>22.630000</td>\n",
       "      <td>1987.000000</td>\n",
       "    </tr>\n",
       "  </tbody>\n",
       "</table>\n",
       "</div>"
      ],
      "text/plain": [
       "          Record         Year\n",
       "count  41.000000    41.000000\n",
       "mean   19.139756  1966.414634\n",
       "std     2.572595    10.800406\n",
       "min    14.590000  1948.000000\n",
       "25%    16.760000  1956.000000\n",
       "50%    19.610000  1968.000000\n",
       "75%    21.600000  1975.000000\n",
       "max    22.630000  1987.000000"
      ]
     },
     "execution_count": 17,
     "metadata": {},
     "output_type": "execute_result"
    }
   ],
   "source": [
    "# Statistics description of Record and the year of the game.\n",
    "W_DIS_YEAR.describe()"
   ]
  },
  {
   "cell_type": "code",
   "execution_count": 18,
   "metadata": {},
   "outputs": [
    {
     "data": {
      "text/html": [
       "<div>\n",
       "<style scoped>\n",
       "    .dataframe tbody tr th:only-of-type {\n",
       "        vertical-align: middle;\n",
       "    }\n",
       "\n",
       "    .dataframe tbody tr th {\n",
       "        vertical-align: top;\n",
       "    }\n",
       "\n",
       "    .dataframe thead th {\n",
       "        text-align: right;\n",
       "    }\n",
       "</style>\n",
       "<table border=\"1\" class=\"dataframe\">\n",
       "  <thead>\n",
       "    <tr style=\"text-align: right;\">\n",
       "      <th></th>\n",
       "      <th>Record</th>\n",
       "      <th>Year</th>\n",
       "    </tr>\n",
       "  </thead>\n",
       "  <tbody>\n",
       "    <tr>\n",
       "      <td>Record</td>\n",
       "      <td>1.000000</td>\n",
       "      <td>0.980953</td>\n",
       "    </tr>\n",
       "    <tr>\n",
       "      <td>Year</td>\n",
       "      <td>0.980953</td>\n",
       "      <td>1.000000</td>\n",
       "    </tr>\n",
       "  </tbody>\n",
       "</table>\n",
       "</div>"
      ],
      "text/plain": [
       "          Record      Year\n",
       "Record  1.000000  0.980953\n",
       "Year    0.980953  1.000000"
      ]
     },
     "execution_count": 18,
     "metadata": {},
     "output_type": "execute_result"
    }
   ],
   "source": [
    "#linear correlation of the distance record and the year of the game.\n",
    "W_DIS_YEAR.corr()"
   ]
  },
  {
   "cell_type": "markdown",
   "metadata": {},
   "source": [
    "#### VISUALIZATION OF YEAR AND RECORD SHOTPUT FOR WOMEN WITH SCATTER PLOT"
   ]
  },
  {
   "cell_type": "code",
   "execution_count": 19,
   "metadata": {},
   "outputs": [
    {
     "data": {
      "image/png": "[encoded data removed]",
      "text/plain": [
       "<Figure size 432x288 with 1 Axes>"
      ]
     },
     "metadata": {
      "needs_background": "light"
     },
     "output_type": "display_data"
    }
   ],
   "source": [
    "#Plotting the scatter plot\n",
    "x = W_DIS_YEAR['Year']\n",
    "y= W_DIS_YEAR['Record']\n",
    "plt.scatter(x, y, color= 'blue') \n",
    "\n",
    "plt.title(\"Distance vs Year \") # stating the title of the graph\n",
    "  \n",
    "plt.xlabel(\"Year\") # adding the name of x-axis\n",
    "plt.ylabel(\"Distance\") # adding the name of y-axis\n",
    "plt.show() #  show the graph"
   ]
  },
  {
   "cell_type": "code",
   "execution_count": 20,
   "metadata": {},
   "outputs": [
    {
     "data": {
      "image/png": "[encoded data removed]",
      "text/plain": [
       "<Figure size 432x288 with 1 Axes>"
      ]
     },
     "metadata": {
      "needs_background": "light"
     },
     "output_type": "display_data"
    }
   ],
   "source": [
    "#Plotting the distribution of the data.\n",
    "W_Histo= W_DIS_YEAR['Record'].hist()"
   ]
  },
  {
   "cell_type": "markdown",
   "metadata": {},
   "source": [
    "#### LINEAR MODEL  FOR MEN'S SHOTPUT"
   ]
  },
  {
   "cell_type": "code",
   "execution_count": 21,
   "metadata": {},
   "outputs": [],
   "source": [
    "X =M_DIS_YEAR.iloc[:, -1].values #Array of the record and year dataset\n",
    "y= M_DIS_YEAR.iloc[:,0].values"
   ]
  },
  {
   "cell_type": "code",
   "execution_count": 22,
   "metadata": {},
   "outputs": [
    {
     "data": {
      "text/plain": [
       "array([1948, 1949, 1950, 1950, 1950, 1953, 1953, 1954, 1954, 1954, 1956,\n",
       "       1956, 1956, 1956, 1959, 1959, 1960, 1960, 1960, 1960, 1960, 1962,\n",
       "       1964, 1964, 1964, 1965, 1967, 1973, 1976, 1976, 1978, 1983, 1985,\n",
       "       1986, 1987, 1987, 1987, 1988, 1990], dtype=int64)"
      ]
     },
     "execution_count": 22,
     "metadata": {},
     "output_type": "execute_result"
    }
   ],
   "source": [
    "X # The years of the game"
   ]
  },
  {
   "cell_type": "code",
   "execution_count": 23,
   "metadata": {},
   "outputs": [],
   "source": [
    "X= np.reshape(X,(39,1)) #reshaping the data to 2D array from 1D array on a single row"
   ]
  },
  {
   "cell_type": "code",
   "execution_count": 24,
   "metadata": {},
   "outputs": [
    {
     "data": {
      "text/plain": [
       "array([[1948],\n",
       "       [1949],\n",
       "       [1950],\n",
       "       [1950],\n",
       "       [1950],\n",
       "       [1953],\n",
       "       [1953],\n",
       "       [1954],\n",
       "       [1954],\n",
       "       [1954],\n",
       "       [1956],\n",
       "       [1956],\n",
       "       [1956],\n",
       "       [1956],\n",
       "       [1959],\n",
       "       [1959],\n",
       "       [1960],\n",
       "       [1960],\n",
       "       [1960],\n",
       "       [1960],\n",
       "       [1960],\n",
       "       [1962],\n",
       "       [1964],\n",
       "       [1964],\n",
       "       [1964],\n",
       "       [1965],\n",
       "       [1967],\n",
       "       [1973],\n",
       "       [1976],\n",
       "       [1976],\n",
       "       [1978],\n",
       "       [1983],\n",
       "       [1985],\n",
       "       [1986],\n",
       "       [1987],\n",
       "       [1987],\n",
       "       [1987],\n",
       "       [1988],\n",
       "       [1990]], dtype=int64)"
      ]
     },
     "execution_count": 24,
     "metadata": {},
     "output_type": "execute_result"
    }
   ],
   "source": [
    "X # checking the 2D array of X-independence dataset"
   ]
  },
  {
   "cell_type": "code",
   "execution_count": 25,
   "metadata": {},
   "outputs": [
    {
     "data": {
      "text/plain": [
       "array([17.68, 17.79, 17.82, 17.9 , 17.95, 18.  , 18.04, 18.42, 18.43,\n",
       "       18.54, 18.62, 18.69, 19.06, 19.25, 19.25, 19.3 , 19.38, 19.45,\n",
       "       19.67, 19.99, 20.06, 20.08, 20.1 , 20.2 , 20.68, 21.52, 21.78,\n",
       "       21.82, 21.85, 22.  , 22.15, 22.22, 22.62, 22.64, 22.72, 22.84,\n",
       "       22.91, 23.06, 23.12])"
      ]
     },
     "execution_count": 25,
     "metadata": {},
     "output_type": "execute_result"
    }
   ],
   "source": [
    "y # the distance covered"
   ]
  },
  {
   "cell_type": "code",
   "execution_count": 26,
   "metadata": {},
   "outputs": [],
   "source": [
    "# splitting the dataset\n",
    "from sklearn.linear_model import LinearRegression\n",
    "from sklearn.model_selection import train_test_split\n",
    "X_train, X_test, y_train, y_test = train_test_split(X,y,test_size=0.2,random_state=0)"
   ]
  },
  {
   "cell_type": "code",
   "execution_count": 27,
   "metadata": {},
   "outputs": [
    {
     "data": {
      "text/plain": [
       "LinearRegression(copy_X=True, fit_intercept=True, n_jobs=None, normalize=False)"
      ]
     },
     "execution_count": 27,
     "metadata": {},
     "output_type": "execute_result"
    }
   ],
   "source": [
    "# fitting the regression model\n",
    "from sklearn.linear_model import LinearRegression\n",
    "regressor = LinearRegression()\n",
    "regressor.fit(X_train,y_train) #actually produces the linear eqn for the data"
   ]
  },
  {
   "cell_type": "code",
   "execution_count": 28,
   "metadata": {},
   "outputs": [
    {
     "data": {
      "text/plain": [
       "array([18.1410642 , 21.64573146, 21.64573146, 22.99368041, 23.1284753 ,\n",
       "       20.16298762, 18.94983357, 20.02819272])"
      ]
     },
     "execution_count": 28,
     "metadata": {},
     "output_type": "execute_result"
    }
   ],
   "source": [
    "# predicting the test set results\n",
    "y_pred = regressor.predict(X_test) \n",
    "y_pred\n",
    " "
   ]
  },
  {
   "cell_type": "code",
   "execution_count": 29,
   "metadata": {},
   "outputs": [
    {
     "data": {
      "text/plain": [
       "array([17.95, 21.85, 22.  , 22.64, 22.72, 21.52, 18.62, 20.1 ])"
      ]
     },
     "execution_count": 29,
     "metadata": {},
     "output_type": "execute_result"
    }
   ],
   "source": [
    "y_test"
   ]
  },
  {
   "cell_type": "code",
   "execution_count": 30,
   "metadata": {},
   "outputs": [
    {
     "data": {
      "image/png": "[encoded data removed]",
      "text/plain": [
       "<Figure size 432x288 with 1 Axes>"
      ]
     },
     "metadata": {
      "needs_background": "light"
     },
     "output_type": "display_data"
    }
   ],
   "source": [
    "# visualizing the results\n",
    "#plot for the TRAIN\n",
    "  \n",
    "plt.scatter(X_train, y_train, color='red') # plotting the observation line\n",
    "plt.plot(X_test, regressor.predict(X_test), color='blue') # plotting the regression\n",
    "\n",
    "  \n",
    "plt.title(\"Distance vs Year(Training set) \") # stating the title of the graph\n",
    "  \n",
    "plt.xlabel(\"Year\") # adding the name of x-axis\n",
    "plt.ylabel(\"Distance\") # adding the name of y-axis\n",
    "plt.show() #  show the graph"
   ]
  },
  {
   "cell_type": "code",
   "execution_count": 31,
   "metadata": {},
   "outputs": [
    {
     "data": {
      "image/png": "[encoded data removed]",
      "text/plain": [
       "<Figure size 432x288 with 1 Axes>"
      ]
     },
     "metadata": {
      "needs_background": "light"
     },
     "output_type": "display_data"
    }
   ],
   "source": [
    "# visualizing the results\n",
    "#plot for the TEST\n",
    "  \n",
    "plt.scatter(X_test, y_test, color='red') # plotting the observation line\n",
    "plt.plot(X_test, regressor.predict(X_test), color='blue') # plotting the regression line\n",
    "plt.title(\"Distance vs Year(Test set) \") # stating the title of the graph\n",
    "  \n",
    "plt.xlabel(\"Year\") # adding the name of x-axis\n",
    "plt.ylabel(\"Distance\") # adding the name of y-axis\n",
    "plt.show() #  show the graph"
   ]
  },
  {
   "cell_type": "code",
   "execution_count": 32,
   "metadata": {},
   "outputs": [
    {
     "data": {
      "text/plain": [
       "<matplotlib.axes._subplots.AxesSubplot at 0x2d756082b08>"
      ]
     },
     "execution_count": 32,
     "metadata": {},
     "output_type": "execute_result"
    },
    {
     "data": {
      "image/png": "[encoded data removed]",
      "text/plain": [
       "<Figure size 432x288 with 1 Axes>"
      ]
     },
     "metadata": {
      "needs_background": "light"
     },
     "output_type": "display_data"
    }
   ],
   "source": [
    "sn.distplot(y_test-y_pred) #Checking the distribution of the residues."
   ]
  },
  {
   "cell_type": "code",
   "execution_count": 33,
   "metadata": {},
   "outputs": [
    {
     "data": {
      "text/plain": [
       "array([0.13479489])"
      ]
     },
     "execution_count": 33,
     "metadata": {},
     "output_type": "execute_result"
    }
   ],
   "source": [
    "regressor.coef_ #the slope of the graph"
   ]
  },
  {
   "cell_type": "code",
   "execution_count": 34,
   "metadata": {},
   "outputs": [
    {
     "data": {
      "text/plain": [
       "True"
      ]
     },
     "execution_count": 34,
     "metadata": {},
     "output_type": "execute_result"
    }
   ],
   "source": [
    "regressor.fit_intercept #the intercept"
   ]
  },
  {
   "cell_type": "markdown",
   "metadata": {},
   "source": [
    "#### LINEAR MODEL  FOR WOMENMEN'S SHOTPUT"
   ]
  },
  {
   "cell_type": "code",
   "execution_count": 35,
   "metadata": {},
   "outputs": [
    {
     "data": {
      "text/plain": [
       "pandas.core.frame.DataFrame"
      ]
     },
     "execution_count": 35,
     "metadata": {},
     "output_type": "execute_result"
    }
   ],
   "source": [
    "type(W_DIS_YEAR) #Checking the data type of the dataset."
   ]
  },
  {
   "cell_type": "code",
   "execution_count": 36,
   "metadata": {},
   "outputs": [
    {
     "data": {
      "text/html": [
       "<div>\n",
       "<style scoped>\n",
       "    .dataframe tbody tr th:only-of-type {\n",
       "        vertical-align: middle;\n",
       "    }\n",
       "\n",
       "    .dataframe tbody tr th {\n",
       "        vertical-align: top;\n",
       "    }\n",
       "\n",
       "    .dataframe thead th {\n",
       "        text-align: right;\n",
       "    }\n",
       "</style>\n",
       "<table border=\"1\" class=\"dataframe\">\n",
       "  <thead>\n",
       "    <tr style=\"text-align: right;\">\n",
       "      <th></th>\n",
       "      <th>Record</th>\n",
       "      <th>Year</th>\n",
       "    </tr>\n",
       "  </thead>\n",
       "  <tbody>\n",
       "    <tr>\n",
       "      <td>244</td>\n",
       "      <td>14.59</td>\n",
       "      <td>1948</td>\n",
       "    </tr>\n",
       "    <tr>\n",
       "      <td>245</td>\n",
       "      <td>14.86</td>\n",
       "      <td>1949</td>\n",
       "    </tr>\n",
       "    <tr>\n",
       "      <td>246</td>\n",
       "      <td>15.02</td>\n",
       "      <td>1950</td>\n",
       "    </tr>\n",
       "    <tr>\n",
       "      <td>247</td>\n",
       "      <td>15.28</td>\n",
       "      <td>1952</td>\n",
       "    </tr>\n",
       "    <tr>\n",
       "      <td>248</td>\n",
       "      <td>15.37</td>\n",
       "      <td>1952</td>\n",
       "    </tr>\n",
       "    <tr>\n",
       "      <td>249</td>\n",
       "      <td>15.42</td>\n",
       "      <td>1952</td>\n",
       "    </tr>\n",
       "    <tr>\n",
       "      <td>250</td>\n",
       "      <td>16.20</td>\n",
       "      <td>1953</td>\n",
       "    </tr>\n",
       "    <tr>\n",
       "      <td>251</td>\n",
       "      <td>16.28</td>\n",
       "      <td>1954</td>\n",
       "    </tr>\n",
       "    <tr>\n",
       "      <td>252</td>\n",
       "      <td>16.28</td>\n",
       "      <td>1955</td>\n",
       "    </tr>\n",
       "    <tr>\n",
       "      <td>253</td>\n",
       "      <td>16.67</td>\n",
       "      <td>1955</td>\n",
       "    </tr>\n",
       "    <tr>\n",
       "      <td>254</td>\n",
       "      <td>16.76</td>\n",
       "      <td>1956</td>\n",
       "    </tr>\n",
       "    <tr>\n",
       "      <td>255</td>\n",
       "      <td>17.25</td>\n",
       "      <td>1959</td>\n",
       "    </tr>\n",
       "    <tr>\n",
       "      <td>256</td>\n",
       "      <td>17.42</td>\n",
       "      <td>1960</td>\n",
       "    </tr>\n",
       "    <tr>\n",
       "      <td>257</td>\n",
       "      <td>17.78</td>\n",
       "      <td>1960</td>\n",
       "    </tr>\n",
       "    <tr>\n",
       "      <td>258</td>\n",
       "      <td>18.55</td>\n",
       "      <td>1962</td>\n",
       "    </tr>\n",
       "    <tr>\n",
       "      <td>259</td>\n",
       "      <td>18.55</td>\n",
       "      <td>1962</td>\n",
       "    </tr>\n",
       "    <tr>\n",
       "      <td>260</td>\n",
       "      <td>18.59</td>\n",
       "      <td>1965</td>\n",
       "    </tr>\n",
       "    <tr>\n",
       "      <td>261</td>\n",
       "      <td>18.67</td>\n",
       "      <td>1968</td>\n",
       "    </tr>\n",
       "    <tr>\n",
       "      <td>262</td>\n",
       "      <td>18.87</td>\n",
       "      <td>1968</td>\n",
       "    </tr>\n",
       "    <tr>\n",
       "      <td>263</td>\n",
       "      <td>19.07</td>\n",
       "      <td>1968</td>\n",
       "    </tr>\n",
       "    <tr>\n",
       "      <td>264</td>\n",
       "      <td>19.61</td>\n",
       "      <td>1968</td>\n",
       "    </tr>\n",
       "    <tr>\n",
       "      <td>265</td>\n",
       "      <td>19.72</td>\n",
       "      <td>1969</td>\n",
       "    </tr>\n",
       "    <tr>\n",
       "      <td>266</td>\n",
       "      <td>20.09</td>\n",
       "      <td>1969</td>\n",
       "    </tr>\n",
       "    <tr>\n",
       "      <td>267</td>\n",
       "      <td>20.10</td>\n",
       "      <td>1969</td>\n",
       "    </tr>\n",
       "    <tr>\n",
       "      <td>268</td>\n",
       "      <td>20.10</td>\n",
       "      <td>1969</td>\n",
       "    </tr>\n",
       "    <tr>\n",
       "      <td>269</td>\n",
       "      <td>20.43</td>\n",
       "      <td>1969</td>\n",
       "    </tr>\n",
       "    <tr>\n",
       "      <td>270</td>\n",
       "      <td>20.43</td>\n",
       "      <td>1971</td>\n",
       "    </tr>\n",
       "    <tr>\n",
       "      <td>271</td>\n",
       "      <td>20.63</td>\n",
       "      <td>1972</td>\n",
       "    </tr>\n",
       "    <tr>\n",
       "      <td>272</td>\n",
       "      <td>21.03</td>\n",
       "      <td>1972</td>\n",
       "    </tr>\n",
       "    <tr>\n",
       "      <td>273</td>\n",
       "      <td>21.20</td>\n",
       "      <td>1973</td>\n",
       "    </tr>\n",
       "    <tr>\n",
       "      <td>274</td>\n",
       "      <td>21.60</td>\n",
       "      <td>1975</td>\n",
       "    </tr>\n",
       "    <tr>\n",
       "      <td>275</td>\n",
       "      <td>21.67</td>\n",
       "      <td>1976</td>\n",
       "    </tr>\n",
       "    <tr>\n",
       "      <td>276</td>\n",
       "      <td>21.87</td>\n",
       "      <td>1976</td>\n",
       "    </tr>\n",
       "    <tr>\n",
       "      <td>277</td>\n",
       "      <td>21.89</td>\n",
       "      <td>1976</td>\n",
       "    </tr>\n",
       "    <tr>\n",
       "      <td>278</td>\n",
       "      <td>21.99</td>\n",
       "      <td>1976</td>\n",
       "    </tr>\n",
       "    <tr>\n",
       "      <td>279</td>\n",
       "      <td>22.32</td>\n",
       "      <td>1977</td>\n",
       "    </tr>\n",
       "    <tr>\n",
       "      <td>280</td>\n",
       "      <td>22.36</td>\n",
       "      <td>1980</td>\n",
       "    </tr>\n",
       "    <tr>\n",
       "      <td>281</td>\n",
       "      <td>22.45</td>\n",
       "      <td>1980</td>\n",
       "    </tr>\n",
       "    <tr>\n",
       "      <td>282</td>\n",
       "      <td>22.53</td>\n",
       "      <td>1984</td>\n",
       "    </tr>\n",
       "    <tr>\n",
       "      <td>283</td>\n",
       "      <td>22.60</td>\n",
       "      <td>1987</td>\n",
       "    </tr>\n",
       "    <tr>\n",
       "      <td>284</td>\n",
       "      <td>22.63</td>\n",
       "      <td>1987</td>\n",
       "    </tr>\n",
       "  </tbody>\n",
       "</table>\n",
       "</div>"
      ],
      "text/plain": [
       "     Record  Year\n",
       "244   14.59  1948\n",
       "245   14.86  1949\n",
       "246   15.02  1950\n",
       "247   15.28  1952\n",
       "248   15.37  1952\n",
       "249   15.42  1952\n",
       "250   16.20  1953\n",
       "251   16.28  1954\n",
       "252   16.28  1955\n",
       "253   16.67  1955\n",
       "254   16.76  1956\n",
       "255   17.25  1959\n",
       "256   17.42  1960\n",
       "257   17.78  1960\n",
       "258   18.55  1962\n",
       "259   18.55  1962\n",
       "260   18.59  1965\n",
       "261   18.67  1968\n",
       "262   18.87  1968\n",
       "263   19.07  1968\n",
       "264   19.61  1968\n",
       "265   19.72  1969\n",
       "266   20.09  1969\n",
       "267   20.10  1969\n",
       "268   20.10  1969\n",
       "269   20.43  1969\n",
       "270   20.43  1971\n",
       "271   20.63  1972\n",
       "272   21.03  1972\n",
       "273   21.20  1973\n",
       "274   21.60  1975\n",
       "275   21.67  1976\n",
       "276   21.87  1976\n",
       "277   21.89  1976\n",
       "278   21.99  1976\n",
       "279   22.32  1977\n",
       "280   22.36  1980\n",
       "281   22.45  1980\n",
       "282   22.53  1984\n",
       "283   22.60  1987\n",
       "284   22.63  1987"
      ]
     },
     "execution_count": 36,
     "metadata": {},
     "output_type": "execute_result"
    }
   ],
   "source": [
    "W_DIS_YEAR "
   ]
  },
  {
   "cell_type": "code",
   "execution_count": 37,
   "metadata": {},
   "outputs": [
    {
     "data": {
      "text/html": [
       "<div>\n",
       "<style scoped>\n",
       "    .dataframe tbody tr th:only-of-type {\n",
       "        vertical-align: middle;\n",
       "    }\n",
       "\n",
       "    .dataframe tbody tr th {\n",
       "        vertical-align: top;\n",
       "    }\n",
       "\n",
       "    .dataframe thead th {\n",
       "        text-align: right;\n",
       "    }\n",
       "</style>\n",
       "<table border=\"1\" class=\"dataframe\">\n",
       "  <thead>\n",
       "    <tr style=\"text-align: right;\">\n",
       "      <th></th>\n",
       "      <th>Record</th>\n",
       "      <th>Year</th>\n",
       "    </tr>\n",
       "  </thead>\n",
       "  <tbody>\n",
       "    <tr>\n",
       "      <td>count</td>\n",
       "      <td>41.000000</td>\n",
       "      <td>41.000000</td>\n",
       "    </tr>\n",
       "    <tr>\n",
       "      <td>mean</td>\n",
       "      <td>19.139756</td>\n",
       "      <td>1966.414634</td>\n",
       "    </tr>\n",
       "    <tr>\n",
       "      <td>std</td>\n",
       "      <td>2.572595</td>\n",
       "      <td>10.800406</td>\n",
       "    </tr>\n",
       "    <tr>\n",
       "      <td>min</td>\n",
       "      <td>14.590000</td>\n",
       "      <td>1948.000000</td>\n",
       "    </tr>\n",
       "    <tr>\n",
       "      <td>25%</td>\n",
       "      <td>16.760000</td>\n",
       "      <td>1956.000000</td>\n",
       "    </tr>\n",
       "    <tr>\n",
       "      <td>50%</td>\n",
       "      <td>19.610000</td>\n",
       "      <td>1968.000000</td>\n",
       "    </tr>\n",
       "    <tr>\n",
       "      <td>75%</td>\n",
       "      <td>21.600000</td>\n",
       "      <td>1975.000000</td>\n",
       "    </tr>\n",
       "    <tr>\n",
       "      <td>max</td>\n",
       "      <td>22.630000</td>\n",
       "      <td>1987.000000</td>\n",
       "    </tr>\n",
       "  </tbody>\n",
       "</table>\n",
       "</div>"
      ],
      "text/plain": [
       "          Record         Year\n",
       "count  41.000000    41.000000\n",
       "mean   19.139756  1966.414634\n",
       "std     2.572595    10.800406\n",
       "min    14.590000  1948.000000\n",
       "25%    16.760000  1956.000000\n",
       "50%    19.610000  1968.000000\n",
       "75%    21.600000  1975.000000\n",
       "max    22.630000  1987.000000"
      ]
     },
     "execution_count": 37,
     "metadata": {},
     "output_type": "execute_result"
    }
   ],
   "source": [
    "# Statistics description of Record and year columns.\n",
    "W_DIS_YEAR.describe()"
   ]
  },
  {
   "cell_type": "code",
   "execution_count": 38,
   "metadata": {},
   "outputs": [],
   "source": [
    "X1 =W_DIS_YEAR.iloc[:, -1].values\n",
    "y2= W_DIS_YEAR.iloc[:,0].values"
   ]
  },
  {
   "cell_type": "code",
   "execution_count": 39,
   "metadata": {},
   "outputs": [],
   "source": [
    "X1= np.reshape(X1,(41,1))"
   ]
  },
  {
   "cell_type": "code",
   "execution_count": 40,
   "metadata": {},
   "outputs": [
    {
     "data": {
      "text/plain": [
       "array([[1948],\n",
       "       [1949],\n",
       "       [1950],\n",
       "       [1952],\n",
       "       [1952],\n",
       "       [1952],\n",
       "       [1953],\n",
       "       [1954],\n",
       "       [1955],\n",
       "       [1955],\n",
       "       [1956],\n",
       "       [1959],\n",
       "       [1960],\n",
       "       [1960],\n",
       "       [1962],\n",
       "       [1962],\n",
       "       [1965],\n",
       "       [1968],\n",
       "       [1968],\n",
       "       [1968],\n",
       "       [1968],\n",
       "       [1969],\n",
       "       [1969],\n",
       "       [1969],\n",
       "       [1969],\n",
       "       [1969],\n",
       "       [1971],\n",
       "       [1972],\n",
       "       [1972],\n",
       "       [1973],\n",
       "       [1975],\n",
       "       [1976],\n",
       "       [1976],\n",
       "       [1976],\n",
       "       [1976],\n",
       "       [1977],\n",
       "       [1980],\n",
       "       [1980],\n",
       "       [1984],\n",
       "       [1987],\n",
       "       [1987]], dtype=int64)"
      ]
     },
     "execution_count": 40,
     "metadata": {},
     "output_type": "execute_result"
    }
   ],
   "source": [
    "X1"
   ]
  },
  {
   "cell_type": "code",
   "execution_count": 41,
   "metadata": {},
   "outputs": [
    {
     "data": {
      "text/plain": [
       "array([14.59, 14.86, 15.02, 15.28, 15.37, 15.42, 16.2 , 16.28, 16.28,\n",
       "       16.67, 16.76, 17.25, 17.42, 17.78, 18.55, 18.55, 18.59, 18.67,\n",
       "       18.87, 19.07, 19.61, 19.72, 20.09, 20.1 , 20.1 , 20.43, 20.43,\n",
       "       20.63, 21.03, 21.2 , 21.6 , 21.67, 21.87, 21.89, 21.99, 22.32,\n",
       "       22.36, 22.45, 22.53, 22.6 , 22.63])"
      ]
     },
     "execution_count": 41,
     "metadata": {},
     "output_type": "execute_result"
    }
   ],
   "source": [
    "y2"
   ]
  },
  {
   "cell_type": "code",
   "execution_count": 42,
   "metadata": {},
   "outputs": [],
   "source": [
    "# splitting the dataset\n",
    "from sklearn.linear_model import LinearRegression\n",
    "from sklearn.model_selection import train_test_split\n",
    "X_train, X_test, y_train, y_test = train_test_split(X1,y2,test_size=1/3,random_state=0)"
   ]
  },
  {
   "cell_type": "code",
   "execution_count": 43,
   "metadata": {},
   "outputs": [
    {
     "data": {
      "text/plain": [
       "LinearRegression(copy_X=True, fit_intercept=True, n_jobs=None, normalize=False)"
      ]
     },
     "execution_count": 43,
     "metadata": {},
     "output_type": "execute_result"
    }
   ],
   "source": [
    "#regressor = LinearRegression()\n",
    "regressor.fit(X_train,y_train) #"
   ]
  },
  {
   "cell_type": "code",
   "execution_count": 44,
   "metadata": {},
   "outputs": [
    {
     "data": {
      "text/plain": [
       "array([19.6359754 , 21.43957429, 20.53777484, 15.80332775, 16.7051272 ,\n",
       "       21.21412443, 20.31232498, 17.38147678, 22.11592387, 20.98867456,\n",
       "       20.31232498, 19.41052554, 23.01772332, 15.35242803])"
      ]
     },
     "execution_count": 44,
     "metadata": {},
     "output_type": "execute_result"
    }
   ],
   "source": [
    "y_pred = regressor.predict(X_test) \n",
    "y_pred"
   ]
  },
  {
   "cell_type": "code",
   "execution_count": 45,
   "metadata": {},
   "outputs": [
    {
     "data": {
      "text/plain": [
       "array([20.43, 22.32, 21.2 , 15.37, 16.76, 21.67, 20.63, 17.25, 22.36,\n",
       "       21.6 , 21.03, 19.61, 22.53, 15.02])"
      ]
     },
     "execution_count": 45,
     "metadata": {},
     "output_type": "execute_result"
    }
   ],
   "source": [
    "y_test"
   ]
  },
  {
   "cell_type": "code",
   "execution_count": 46,
   "metadata": {},
   "outputs": [
    {
     "data": {
      "image/png": "[encoded data removed]",
      "text/plain": [
       "<Figure size 432x288 with 1 Axes>"
      ]
     },
     "metadata": {
      "needs_background": "light"
     },
     "output_type": "display_data"
    }
   ],
   "source": [
    "# visualizing the results\n",
    "#plot for the TRAIN\n",
    "  \n",
    "plt.scatter(X_train, y_train, color='red') # plotting the observation line\n",
    "plt.plot(X_test, regressor.predict(X_test), color='blue') # plotting the regression\n",
    "  \n",
    "plt.title(\"Distance vs Year(Training set) \") # stating the title of the graph\n",
    "  \n",
    "plt.xlabel(\"Year\") # adding the name of x-axis\n",
    "plt.ylabel(\"Distance\") # adding the name of y-axis\n",
    "plt.show() #  show the graph"
   ]
  },
  {
   "cell_type": "code",
   "execution_count": 47,
   "metadata": {},
   "outputs": [
    {
     "data": {
      "image/png": "[encoded data removed]",
      "text/plain": [
       "<Figure size 432x288 with 1 Axes>"
      ]
     },
     "metadata": {
      "needs_background": "light"
     },
     "output_type": "display_data"
    }
   ],
   "source": [
    "# visualizing the results\n",
    "#plot for the TEST\n",
    "  \n",
    "plt.scatter(X_test, y_test, color='red') # plotting the observation line\n",
    "plt.plot(X_test, regressor.predict(X_test), color='blue') # plotting the regression line\n",
    "plt.title(\"Distance vs Year(Test set) \") # stating the title of the graph\n",
    "  \n",
    "plt.xlabel(\"Year\") # adding the name of x-axis\n",
    "plt.ylabel(\"Distance\") # adding the name of y-axis\n",
    "plt.show() #  show the graph"
   ]
  },
  {
   "cell_type": "code",
   "execution_count": 48,
   "metadata": {},
   "outputs": [
    {
     "data": {
      "text/plain": [
       "<matplotlib.axes._subplots.AxesSubplot at 0x2d756c086c8>"
      ]
     },
     "execution_count": 48,
     "metadata": {},
     "output_type": "execute_result"
    },
    {
     "data": {
      "image/png": "[encoded data removed]",
      "text/plain": [
       "<Figure size 432x288 with 1 Axes>"
      ]
     },
     "metadata": {
      "needs_background": "light"
     },
     "output_type": "display_data"
    }
   ],
   "source": [
    "sn.distplot(y_test-y_pred)"
   ]
  },
  {
   "cell_type": "markdown",
   "metadata": {},
   "source": [
    "#### RESULTS OF THE LINEAR MODEL FOR MEN AND WOMEN SHOTPUT\n"
   ]
  },
  {
   "cell_type": "markdown",
   "metadata": {},
   "source": [
    "The two linear models give a positive linear relationship between the year of the game and the distance at which each athlete threw the shotput. In order words, the linear graphs show that one unit increase in the match the athlete's played in a year or more leads to a unit increase in the distance at which the ball landed."
   ]
  },
  {
   "cell_type": "markdown",
   "metadata": {},
   "source": [
    "#### ANALYSIS FOR THE MEN AND WOMEN SHOTPUT "
   ]
  },
  {
   "cell_type": "markdown",
   "metadata": {},
   "source": [
    "The histograms and the scatter plots above show that the dataset is normally distributed, and there is no present of outliers in the data.\n",
    "\n",
    "The average distance record for men's shotput was 20.194872. The data shows the highest shotput distance in 1990, Randy Barne from Los Angeles, the U.S.A with 23.12\tdistance covered.\n",
    "\n",
    "For the women's world record, the average distance covered was 19.139756. Natalya Lisovskaya\tURS\tMoscow, the Soviet Union in 1987 won the world record with the length of 22.63, which was the maximum distance covered in the game's history, and she won the form for three consecutive times. \n",
    "\n",
    "Parry O'Brien from Los Angeles, U.S. A is the only shotput athlete who won the world record for nine consecutive times. He won in 1959, making his world record of being 10  with a distance increase from 18.00 in  1953 to  19.30 in 1959.\n",
    "\n",
    "\n"
   ]
  },
  {
   "cell_type": "markdown",
   "metadata": {},
   "source": [
    "#### FINAL RESULTS"
   ]
  },
  {
   "cell_type": "markdown",
   "metadata": {},
   "source": [
    "There is accelerated progress in the men's shot put world record over time. Every athlete performed much better than the previous game through the distance at which the ball landed, resulting in a yearly increase in every player's performance. \n",
    "\n",
    "The data shows that every world record shotput athlete performance between 1964 to 1990 is above the average mark. This might be due to a field discipline, thorough practices, and the previous game analysis.\n",
    "\n",
    "The same applies to the women shotput world record athlete. They performed much better above the average score between 1968 and 1987."
   ]
  },
  {
   "cell_type": "code",
   "execution_count": null,
   "metadata": {},
   "outputs": [],
   "source": []
  }
 ],
 "metadata": {
  "kernelspec": {
   "display_name": "Python 3",
   "language": "python",
   "name": "python3"
  },
  "language_info": {
   "codemirror_mode": {
    "name": "ipython",
    "version": 3
   },
   "file_extension": ".py",
   "mimetype": "text/x-python",
   "name": "python",
   "nbconvert_exporter": "python",
   "pygments_lexer": "ipython3",
   "version": "3.7.4"
  }
 },
 "nbformat": 4,
 "nbformat_minor": 2
}
